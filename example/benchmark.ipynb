{
 "cells": [
  {
   "cell_type": "code",
   "execution_count": 1,
   "metadata": {
    "ExecuteTime": {
     "end_time": "2020-09-06T17:39:37.688000+09:00",
     "start_time": "2020-09-06T08:39:36.094Z"
    }
   },
   "outputs": [
    {
     "name": "stdout",
     "output_type": "stream",
     "text": [
      "Julia Version 1.5.1\n",
      "Commit 697e782ab8 (2020-08-25 20:08 UTC)\n",
      "Platform Info:\n",
      "  OS: Linux (x86_64-pc-linux-gnu)\n",
      "  CPU: Intel(R) Core(TM) i7-9750H CPU @ 2.60GHz\n",
      "  WORD_SIZE: 64\n",
      "  LIBM: libopenlibm\n",
      "  LLVM: libLLVM-9.0.1 (ORCJIT, skylake)\n"
     ]
    }
   ],
   "source": [
    "versioninfo()"
   ]
  },
  {
   "cell_type": "code",
   "execution_count": null,
   "metadata": {
    "ExecuteTime": {
     "end_time": "2020-09-06T17:39:38.845000+09:00",
     "start_time": "2020-09-06T08:39:38.451Z"
    }
   },
   "outputs": [],
   "source": [
    "]activate ."
   ]
  },
  {
   "cell_type": "code",
   "execution_count": 3,
   "metadata": {
    "ExecuteTime": {
     "end_time": "2020-09-06T17:39:48.556000+09:00",
     "start_time": "2020-09-06T08:39:44.815Z"
    }
   },
   "outputs": [],
   "source": [
    "]instantiate"
   ]
  },
  {
   "cell_type": "code",
   "execution_count": 4,
   "metadata": {
    "ExecuteTime": {
     "end_time": "2020-09-06T17:40:32.176000+09:00",
     "start_time": "2020-09-06T08:40:32.174Z"
    }
   },
   "outputs": [],
   "source": [
    "using Squareness"
   ]
  },
  {
   "cell_type": "markdown",
   "metadata": {},
   "source": [
    "## Simple Newton Method"
   ]
  },
  {
   "cell_type": "code",
   "execution_count": 5,
   "metadata": {
    "ExecuteTime": {
     "end_time": "2020-09-06T17:40:32.650000+09:00",
     "start_time": "2020-09-06T08:40:32.177Z"
    }
   },
   "outputs": [
    {
     "data": {
      "text/plain": [
       "issquare_with_simple_newton (generic function with 3 methods)"
      ]
     },
     "execution_count": 5,
     "metadata": {},
     "output_type": "execute_result"
    }
   ],
   "source": [
    "function _issquare_with_simple_newton(x::I) where {I <: Integer}\n",
    "    x == 0 && return true\n",
    "    xtz = trailing_zeros(x)\n",
    "    isodd(xtz) && return false\n",
    "    x >>= unsigned(xtz)\n",
    "    o_xrt::I = x\n",
    "    xrt::I = (x + 0x1) >> 0x1\n",
    "    xrt == 0 && return false  # overflow\n",
    "    while xrt < o_xrt\n",
    "        o_xrt = xrt\n",
    "        xrt = (xrt + x ÷ xrt) >> 0x1\n",
    "    end\n",
    "    xrt * xrt == x\n",
    "end\n",
    "\n",
    "issquare_with_simple_newton(x::Signed) = x < 0 ? false : _issquare_with_simple_newton(x % Unsigned)\n",
    "issquare_with_simple_newton(x::Unsigned) = _issquare_with_simple_newton(x)\n",
    "issquare_with_simple_newton(x::BigInt) = x < 0 ? false : _issquare_with_simple_newton(x)"
   ]
  },
  {
   "cell_type": "markdown",
   "metadata": {},
   "source": [
    "### Simple Check"
   ]
  },
  {
   "cell_type": "code",
   "execution_count": 6,
   "metadata": {
    "ExecuteTime": {
     "end_time": "2020-09-06T17:40:32.881000+09:00",
     "start_time": "2020-09-06T08:40:32.180Z"
    }
   },
   "outputs": [
    {
     "data": {
      "text/plain": [
       "true"
      ]
     },
     "execution_count": 6,
     "metadata": {},
     "output_type": "execute_result"
    }
   ],
   "source": [
    "all(issquare(x) == issquare_with_simple_newton(x) == Squareness.issquare_with_isqrt(x) for x in rand(Int, 10000))"
   ]
  },
  {
   "cell_type": "code",
   "execution_count": 7,
   "metadata": {
    "ExecuteTime": {
     "end_time": "2020-09-06T17:40:32.937000+09:00",
     "start_time": "2020-09-06T08:40:32.182Z"
    }
   },
   "outputs": [
    {
     "data": {
      "text/plain": [
       "true"
      ]
     },
     "execution_count": 7,
     "metadata": {},
     "output_type": "execute_result"
    }
   ],
   "source": [
    "all(issquare(x) == issquare_with_simple_newton(x) == Squareness.issquare_with_isqrt(x) for x in rand(Int32, 10000))"
   ]
  },
  {
   "cell_type": "markdown",
   "metadata": {
    "ExecuteTime": {
     "end_time": "2020-08-31T10:40:20+09:00",
     "start_time": "2020-08-31T01:40:17.960Z"
    }
   },
   "source": [
    "## Benchmark"
   ]
  },
  {
   "cell_type": "code",
   "execution_count": 8,
   "metadata": {
    "ExecuteTime": {
     "end_time": "2020-09-06T17:40:32.957000+09:00",
     "start_time": "2020-09-06T08:40:32.185Z"
    }
   },
   "outputs": [],
   "source": [
    "using BenchmarkTools"
   ]
  },
  {
   "cell_type": "markdown",
   "metadata": {},
   "source": [
    "### Compare `issquare()`(with P-adic Newton) vs `issquare_with_isqrt()` vs `issquare_with_simple_newton()`"
   ]
  },
  {
   "cell_type": "markdown",
   "metadata": {},
   "source": [
    "#### `Int64`"
   ]
  },
  {
   "cell_type": "code",
   "execution_count": 9,
   "metadata": {
    "ExecuteTime": {
     "end_time": "2020-09-06T17:40:33.031000+09:00",
     "start_time": "2020-09-06T08:40:32.187Z"
    }
   },
   "outputs": [
    {
     "data": {
      "text/plain": [
       "rand_int64 (generic function with 1 method)"
      ]
     },
     "execution_count": 9,
     "metadata": {},
     "output_type": "execute_result"
    }
   ],
   "source": [
    "rand_int64() = rand(Int64) & typemax(Int64)"
   ]
  },
  {
   "cell_type": "code",
   "execution_count": 10,
   "metadata": {
    "ExecuteTime": {
     "end_time": "2020-09-06T17:40:34.629000+09:00",
     "start_time": "2020-09-06T08:40:32.189Z"
    }
   },
   "outputs": [
    {
     "data": {
      "text/plain": [
       "BenchmarkTools.Trial: \n",
       "  memory estimate:  0 bytes\n",
       "  allocs estimate:  0\n",
       "  --------------\n",
       "  minimum time:     2.882 ns (0.00% GC)\n",
       "  median time:      5.221 ns (0.00% GC)\n",
       "  mean time:        4.729 ns (0.00% GC)\n",
       "  maximum time:     40.874 ns (0.00% GC)\n",
       "  --------------\n",
       "  samples:          10000\n",
       "  evals/sample:     1000"
      ]
     },
     "execution_count": 10,
     "metadata": {},
     "output_type": "execute_result"
    }
   ],
   "source": [
    "@benchmark issquare(n) setup=(n=rand_int64())"
   ]
  },
  {
   "cell_type": "code",
   "execution_count": 11,
   "metadata": {
    "ExecuteTime": {
     "end_time": "2020-09-06T17:40:35.296000+09:00",
     "start_time": "2020-09-06T08:40:32.191Z"
    }
   },
   "outputs": [
    {
     "data": {
      "text/plain": [
       "BenchmarkTools.Trial: \n",
       "  memory estimate:  0 bytes\n",
       "  allocs estimate:  0\n",
       "  --------------\n",
       "  minimum time:     12.670 ns (0.00% GC)\n",
       "  median time:      12.996 ns (0.00% GC)\n",
       "  mean time:        13.183 ns (0.00% GC)\n",
       "  maximum time:     54.264 ns (0.00% GC)\n",
       "  --------------\n",
       "  samples:          10000\n",
       "  evals/sample:     999"
      ]
     },
     "execution_count": 11,
     "metadata": {},
     "output_type": "execute_result"
    }
   ],
   "source": [
    "@benchmark Squareness.issquare_with_isqrt(n) setup=(n=rand_int64())"
   ]
  },
  {
   "cell_type": "code",
   "execution_count": 12,
   "metadata": {
    "ExecuteTime": {
     "end_time": "2020-09-06T17:40:38.235000+09:00",
     "start_time": "2020-09-06T08:40:32.193Z"
    }
   },
   "outputs": [
    {
     "data": {
      "text/plain": [
       "BenchmarkTools.Trial: \n",
       "  memory estimate:  0 bytes\n",
       "  allocs estimate:  0\n",
       "  --------------\n",
       "  minimum time:     2.402 ns (0.00% GC)\n",
       "  median time:      328.616 ns (0.00% GC)\n",
       "  mean time:        230.272 ns (0.00% GC)\n",
       "  maximum time:     642.168 ns (0.00% GC)\n",
       "  --------------\n",
       "  samples:          10000\n",
       "  evals/sample:     1000"
      ]
     },
     "execution_count": 12,
     "metadata": {},
     "output_type": "execute_result"
    }
   ],
   "source": [
    "@benchmark issquare_with_simple_newton(n) setup=(n=rand_int64())"
   ]
  },
  {
   "cell_type": "markdown",
   "metadata": {},
   "source": [
    "#### `Int64` × 100"
   ]
  },
  {
   "cell_type": "code",
   "execution_count": 13,
   "metadata": {
    "ExecuteTime": {
     "end_time": "2020-09-06T17:40:38.236000+09:00",
     "start_time": "2020-09-06T08:40:32.196Z"
    }
   },
   "outputs": [
    {
     "data": {
      "text/plain": [
       "rand_int64 (generic function with 2 methods)"
      ]
     },
     "execution_count": 13,
     "metadata": {},
     "output_type": "execute_result"
    }
   ],
   "source": [
    "rand_int64(N) = rand(Int64, N) .& typemax(Int64)"
   ]
  },
  {
   "cell_type": "code",
   "execution_count": 14,
   "metadata": {
    "ExecuteTime": {
     "end_time": "2020-09-06T17:40:40.348000+09:00",
     "start_time": "2020-09-06T08:40:32.198Z"
    }
   },
   "outputs": [
    {
     "data": {
      "text/plain": [
       "BenchmarkTools.Trial: \n",
       "  memory estimate:  128 bytes\n",
       "  allocs estimate:  2\n",
       "  --------------\n",
       "  minimum time:     484.974 ns (0.00% GC)\n",
       "  median time:      584.278 ns (0.00% GC)\n",
       "  mean time:        602.048 ns (1.13% GC)\n",
       "  maximum time:     14.407 μs (94.24% GC)\n",
       "  --------------\n",
       "  samples:          10000\n",
       "  evals/sample:     194"
      ]
     },
     "execution_count": 14,
     "metadata": {},
     "output_type": "execute_result"
    }
   ],
   "source": [
    "@benchmark issquare.(n) setup=(n=rand_int64(100))"
   ]
  },
  {
   "cell_type": "code",
   "execution_count": 15,
   "metadata": {
    "ExecuteTime": {
     "end_time": "2020-09-06T17:40:41.904000+09:00",
     "start_time": "2020-09-06T08:40:32.199Z"
    }
   },
   "outputs": [
    {
     "data": {
      "text/plain": [
       "BenchmarkTools.Trial: \n",
       "  memory estimate:  128 bytes\n",
       "  allocs estimate:  2\n",
       "  --------------\n",
       "  minimum time:     1.453 μs (0.00% GC)\n",
       "  median time:      1.514 μs (0.00% GC)\n",
       "  mean time:        1.542 μs (0.00% GC)\n",
       "  maximum time:     5.389 μs (0.00% GC)\n",
       "  --------------\n",
       "  samples:          10000\n",
       "  evals/sample:     10"
      ]
     },
     "execution_count": 15,
     "metadata": {},
     "output_type": "execute_result"
    }
   ],
   "source": [
    "@benchmark Squareness.issquare_with_isqrt.(n) setup=(n=rand_int64(100))"
   ]
  },
  {
   "cell_type": "code",
   "execution_count": 16,
   "metadata": {
    "ExecuteTime": {
     "end_time": "2020-09-06T17:40:47.758000+09:00",
     "start_time": "2020-09-06T08:40:32.201Z"
    }
   },
   "outputs": [
    {
     "data": {
      "text/plain": [
       "BenchmarkTools.Trial: \n",
       "  memory estimate:  128 bytes\n",
       "  allocs estimate:  2\n",
       "  --------------\n",
       "  minimum time:     17.051 μs (0.00% GC)\n",
       "  median time:      23.412 μs (0.00% GC)\n",
       "  mean time:        23.782 μs (0.00% GC)\n",
       "  maximum time:     75.220 μs (0.00% GC)\n",
       "  --------------\n",
       "  samples:          10000\n",
       "  evals/sample:     1"
      ]
     },
     "execution_count": 16,
     "metadata": {},
     "output_type": "execute_result"
    }
   ],
   "source": [
    "@benchmark issquare_with_simple_newton.(n) setup=(n=rand_int64(100))"
   ]
  },
  {
   "cell_type": "markdown",
   "metadata": {},
   "source": [
    "#### `Int32`"
   ]
  },
  {
   "cell_type": "code",
   "execution_count": 17,
   "metadata": {
    "ExecuteTime": {
     "end_time": "2020-09-06T17:40:47.827000+09:00",
     "start_time": "2020-09-06T08:40:32.205Z"
    }
   },
   "outputs": [
    {
     "data": {
      "text/plain": [
       "rand_int32 (generic function with 1 method)"
      ]
     },
     "execution_count": 17,
     "metadata": {},
     "output_type": "execute_result"
    }
   ],
   "source": [
    "rand_int32() = rand(Int32) & typemax(Int32)"
   ]
  },
  {
   "cell_type": "code",
   "execution_count": 18,
   "metadata": {
    "ExecuteTime": {
     "end_time": "2020-09-06T17:40:48.404000+09:00",
     "start_time": "2020-09-06T08:40:32.207Z"
    }
   },
   "outputs": [
    {
     "data": {
      "text/plain": [
       "BenchmarkTools.Trial: \n",
       "  memory estimate:  0 bytes\n",
       "  allocs estimate:  0\n",
       "  --------------\n",
       "  minimum time:     2.709 ns (0.00% GC)\n",
       "  median time:      4.318 ns (0.00% GC)\n",
       "  mean time:        3.820 ns (0.00% GC)\n",
       "  maximum time:     34.003 ns (0.00% GC)\n",
       "  --------------\n",
       "  samples:          10000\n",
       "  evals/sample:     1000"
      ]
     },
     "execution_count": 18,
     "metadata": {},
     "output_type": "execute_result"
    }
   ],
   "source": [
    "@benchmark issquare(n) setup=(n=rand_int32())"
   ]
  },
  {
   "cell_type": "code",
   "execution_count": 19,
   "metadata": {
    "ExecuteTime": {
     "end_time": "2020-09-06T17:40:49.039000+09:00",
     "start_time": "2020-09-06T08:40:32.210Z"
    }
   },
   "outputs": [
    {
     "data": {
      "text/plain": [
       "BenchmarkTools.Trial: \n",
       "  memory estimate:  0 bytes\n",
       "  allocs estimate:  0\n",
       "  --------------\n",
       "  minimum time:     7.536 ns (0.00% GC)\n",
       "  median time:      7.640 ns (0.00% GC)\n",
       "  mean time:        7.896 ns (0.00% GC)\n",
       "  maximum time:     38.855 ns (0.00% GC)\n",
       "  --------------\n",
       "  samples:          10000\n",
       "  evals/sample:     999"
      ]
     },
     "execution_count": 19,
     "metadata": {},
     "output_type": "execute_result"
    }
   ],
   "source": [
    "@benchmark Squareness.issquare_with_isqrt(n) setup=(n=rand_int32())"
   ]
  },
  {
   "cell_type": "code",
   "execution_count": 20,
   "metadata": {
    "ExecuteTime": {
     "end_time": "2020-09-06T17:40:50.339000+09:00",
     "start_time": "2020-09-06T08:40:32.212Z"
    }
   },
   "outputs": [
    {
     "data": {
      "text/plain": [
       "BenchmarkTools.Trial: \n",
       "  memory estimate:  0 bytes\n",
       "  allocs estimate:  0\n",
       "  --------------\n",
       "  minimum time:     3.116 ns (0.00% GC)\n",
       "  median time:      101.114 ns (0.00% GC)\n",
       "  mean time:        73.857 ns (0.00% GC)\n",
       "  maximum time:     260.022 ns (0.00% GC)\n",
       "  --------------\n",
       "  samples:          10000\n",
       "  evals/sample:     1000"
      ]
     },
     "execution_count": 20,
     "metadata": {},
     "output_type": "execute_result"
    }
   ],
   "source": [
    "@benchmark issquare_with_simple_newton(n) setup=(n=rand_int32())"
   ]
  },
  {
   "cell_type": "markdown",
   "metadata": {},
   "source": [
    "#### `Int32` × 100"
   ]
  },
  {
   "cell_type": "code",
   "execution_count": 21,
   "metadata": {
    "ExecuteTime": {
     "end_time": "2020-09-06T17:40:50.340000+09:00",
     "start_time": "2020-09-06T08:40:32.215Z"
    }
   },
   "outputs": [
    {
     "data": {
      "text/plain": [
       "rand_int32 (generic function with 2 methods)"
      ]
     },
     "execution_count": 21,
     "metadata": {},
     "output_type": "execute_result"
    }
   ],
   "source": [
    "rand_int32(N) = rand(Int32, N) .& typemax(Int32)"
   ]
  },
  {
   "cell_type": "code",
   "execution_count": 22,
   "metadata": {
    "ExecuteTime": {
     "end_time": "2020-09-06T17:40:52.346000+09:00",
     "start_time": "2020-09-06T08:40:32.217Z"
    }
   },
   "outputs": [
    {
     "data": {
      "text/plain": [
       "BenchmarkTools.Trial: \n",
       "  memory estimate:  128 bytes\n",
       "  allocs estimate:  2\n",
       "  --------------\n",
       "  minimum time:     445.763 ns (0.00% GC)\n",
       "  median time:      532.295 ns (0.00% GC)\n",
       "  mean time:        553.374 ns (1.29% GC)\n",
       "  maximum time:     15.029 μs (96.17% GC)\n",
       "  --------------\n",
       "  samples:          10000\n",
       "  evals/sample:     198"
      ]
     },
     "execution_count": 22,
     "metadata": {},
     "output_type": "execute_result"
    }
   ],
   "source": [
    "@benchmark issquare.(n) setup=(n=rand_int32(100))"
   ]
  },
  {
   "cell_type": "code",
   "execution_count": 23,
   "metadata": {
    "ExecuteTime": {
     "end_time": "2020-09-06T17:40:54.040000+09:00",
     "start_time": "2020-09-06T08:40:32.219Z"
    }
   },
   "outputs": [
    {
     "data": {
      "text/plain": [
       "BenchmarkTools.Trial: \n",
       "  memory estimate:  128 bytes\n",
       "  allocs estimate:  2\n",
       "  --------------\n",
       "  minimum time:     379.786 ns (0.00% GC)\n",
       "  median time:      402.841 ns (0.00% GC)\n",
       "  mean time:        423.361 ns (1.68% GC)\n",
       "  maximum time:     15.248 μs (97.16% GC)\n",
       "  --------------\n",
       "  samples:          10000\n",
       "  evals/sample:     201"
      ]
     },
     "execution_count": 23,
     "metadata": {},
     "output_type": "execute_result"
    }
   ],
   "source": [
    "@benchmark Squareness.issquare_with_isqrt.(n) setup=(n=rand_int32(100))"
   ]
  },
  {
   "cell_type": "code",
   "execution_count": 24,
   "metadata": {
    "ExecuteTime": {
     "end_time": "2020-09-06T17:40:59.044000+09:00",
     "start_time": "2020-09-06T08:40:32.220Z"
    }
   },
   "outputs": [
    {
     "data": {
      "text/plain": [
       "BenchmarkTools.Trial: \n",
       "  memory estimate:  128 bytes\n",
       "  allocs estimate:  2\n",
       "  --------------\n",
       "  minimum time:     5.588 μs (0.00% GC)\n",
       "  median time:      8.019 μs (0.00% GC)\n",
       "  mean time:        8.207 μs (0.00% GC)\n",
       "  maximum time:     21.728 μs (0.00% GC)\n",
       "  --------------\n",
       "  samples:          10000\n",
       "  evals/sample:     6"
      ]
     },
     "execution_count": 24,
     "metadata": {},
     "output_type": "execute_result"
    }
   ],
   "source": [
    "@benchmark issquare_with_simple_newton.(n) setup=(n=rand_int32(100))"
   ]
  },
  {
   "cell_type": "markdown",
   "metadata": {},
   "source": [
    "#### `Int16`"
   ]
  },
  {
   "cell_type": "code",
   "execution_count": 25,
   "metadata": {
    "ExecuteTime": {
     "end_time": "2020-09-06T17:40:59.112000+09:00",
     "start_time": "2020-09-06T08:40:32.223Z"
    }
   },
   "outputs": [
    {
     "data": {
      "text/plain": [
       "rand_int16 (generic function with 1 method)"
      ]
     },
     "execution_count": 25,
     "metadata": {},
     "output_type": "execute_result"
    }
   ],
   "source": [
    "rand_int16() = rand(Int16) & typemax(Int16)"
   ]
  },
  {
   "cell_type": "code",
   "execution_count": 26,
   "metadata": {
    "ExecuteTime": {
     "end_time": "2020-09-06T17:40:59.751000+09:00",
     "start_time": "2020-09-06T08:40:32.225Z"
    }
   },
   "outputs": [
    {
     "data": {
      "text/plain": [
       "BenchmarkTools.Trial: \n",
       "  memory estimate:  0 bytes\n",
       "  allocs estimate:  0\n",
       "  --------------\n",
       "  minimum time:     2.954 ns (0.00% GC)\n",
       "  median time:      9.816 ns (0.00% GC)\n",
       "  mean time:        7.687 ns (0.00% GC)\n",
       "  maximum time:     42.653 ns (0.00% GC)\n",
       "  --------------\n",
       "  samples:          10000\n",
       "  evals/sample:     1000"
      ]
     },
     "execution_count": 26,
     "metadata": {},
     "output_type": "execute_result"
    }
   ],
   "source": [
    "@benchmark issquare(n) setup=(n=rand_int16())"
   ]
  },
  {
   "cell_type": "code",
   "execution_count": 27,
   "metadata": {
    "ExecuteTime": {
     "end_time": "2020-09-06T17:41:00.386000+09:00",
     "start_time": "2020-09-06T08:40:32.227Z"
    }
   },
   "outputs": [
    {
     "data": {
      "text/plain": [
       "BenchmarkTools.Trial: \n",
       "  memory estimate:  0 bytes\n",
       "  allocs estimate:  0\n",
       "  --------------\n",
       "  minimum time:     7.485 ns (0.00% GC)\n",
       "  median time:      7.647 ns (0.00% GC)\n",
       "  mean time:        7.688 ns (0.00% GC)\n",
       "  maximum time:     37.499 ns (0.00% GC)\n",
       "  --------------\n",
       "  samples:          10000\n",
       "  evals/sample:     999"
      ]
     },
     "execution_count": 27,
     "metadata": {},
     "output_type": "execute_result"
    }
   ],
   "source": [
    "@benchmark Squareness.issquare_with_isqrt(n) setup=(n=rand_int16())"
   ]
  },
  {
   "cell_type": "code",
   "execution_count": 28,
   "metadata": {
    "ExecuteTime": {
     "end_time": "2020-09-06T17:41:01.334000+09:00",
     "start_time": "2020-09-06T08:40:32.228Z"
    }
   },
   "outputs": [
    {
     "data": {
      "text/plain": [
       "BenchmarkTools.Trial: \n",
       "  memory estimate:  0 bytes\n",
       "  allocs estimate:  0\n",
       "  --------------\n",
       "  minimum time:     2.590 ns (0.00% GC)\n",
       "  median time:      52.829 ns (0.00% GC)\n",
       "  mean time:        39.345 ns (0.00% GC)\n",
       "  maximum time:     150.818 ns (0.00% GC)\n",
       "  --------------\n",
       "  samples:          10000\n",
       "  evals/sample:     1000"
      ]
     },
     "execution_count": 28,
     "metadata": {},
     "output_type": "execute_result"
    }
   ],
   "source": [
    "@benchmark issquare_with_simple_newton(n) setup=(n=rand_int16())"
   ]
  },
  {
   "cell_type": "markdown",
   "metadata": {},
   "source": [
    "#### `Int16` × 100"
   ]
  },
  {
   "cell_type": "code",
   "execution_count": 29,
   "metadata": {
    "ExecuteTime": {
     "end_time": "2020-09-06T17:41:01.335000+09:00",
     "start_time": "2020-09-06T08:40:32.230Z"
    }
   },
   "outputs": [
    {
     "data": {
      "text/plain": [
       "rand_int16 (generic function with 2 methods)"
      ]
     },
     "execution_count": 29,
     "metadata": {},
     "output_type": "execute_result"
    }
   ],
   "source": [
    "rand_int16(N) = rand(Int16, N) .& typemax(Int16)"
   ]
  },
  {
   "cell_type": "code",
   "execution_count": 30,
   "metadata": {
    "ExecuteTime": {
     "end_time": "2020-09-06T17:41:03.231000+09:00",
     "start_time": "2020-09-06T08:40:32.232Z"
    }
   },
   "outputs": [
    {
     "data": {
      "text/plain": [
       "BenchmarkTools.Trial: \n",
       "  memory estimate:  128 bytes\n",
       "  allocs estimate:  2\n",
       "  --------------\n",
       "  minimum time:     392.302 ns (0.00% GC)\n",
       "  median time:      464.297 ns (0.00% GC)\n",
       "  mean time:        489.867 ns (1.53% GC)\n",
       "  maximum time:     16.567 μs (95.63% GC)\n",
       "  --------------\n",
       "  samples:          10000\n",
       "  evals/sample:     202"
      ]
     },
     "execution_count": 30,
     "metadata": {},
     "output_type": "execute_result"
    }
   ],
   "source": [
    "@benchmark issquare.(n) setup=(n=rand_int16(100))"
   ]
  },
  {
   "cell_type": "code",
   "execution_count": 31,
   "metadata": {
    "ExecuteTime": {
     "end_time": "2020-09-06T17:41:04.938000+09:00",
     "start_time": "2020-09-06T08:40:32.235Z"
    }
   },
   "outputs": [
    {
     "data": {
      "text/plain": [
       "BenchmarkTools.Trial: \n",
       "  memory estimate:  128 bytes\n",
       "  allocs estimate:  2\n",
       "  --------------\n",
       "  minimum time:     391.194 ns (0.00% GC)\n",
       "  median time:      411.816 ns (0.00% GC)\n",
       "  mean time:        433.112 ns (1.80% GC)\n",
       "  maximum time:     18.438 μs (97.60% GC)\n",
       "  --------------\n",
       "  samples:          10000\n",
       "  evals/sample:     201"
      ]
     },
     "execution_count": 31,
     "metadata": {},
     "output_type": "execute_result"
    }
   ],
   "source": [
    "@benchmark Squareness.issquare_with_isqrt.(n) setup=(n=rand_int16(100))"
   ]
  },
  {
   "cell_type": "code",
   "execution_count": 32,
   "metadata": {
    "ExecuteTime": {
     "end_time": "2020-09-06T17:41:07.482000+09:00",
     "start_time": "2020-09-06T08:40:32.236Z"
    }
   },
   "outputs": [
    {
     "data": {
      "text/plain": [
       "BenchmarkTools.Trial: \n",
       "  memory estimate:  128 bytes\n",
       "  allocs estimate:  2\n",
       "  --------------\n",
       "  minimum time:     2.584 μs (0.00% GC)\n",
       "  median time:      3.437 μs (0.00% GC)\n",
       "  mean time:        3.472 μs (0.00% GC)\n",
       "  maximum time:     9.935 μs (0.00% GC)\n",
       "  --------------\n",
       "  samples:          10000\n",
       "  evals/sample:     9"
      ]
     },
     "execution_count": 32,
     "metadata": {},
     "output_type": "execute_result"
    }
   ],
   "source": [
    "@benchmark issquare_with_simple_newton.(n) setup=(n=rand_int16(100))"
   ]
  },
  {
   "cell_type": "markdown",
   "metadata": {},
   "source": [
    "#### `Int128`"
   ]
  },
  {
   "cell_type": "code",
   "execution_count": 33,
   "metadata": {
    "ExecuteTime": {
     "end_time": "2020-09-06T17:41:07.549000+09:00",
     "start_time": "2020-09-06T08:40:32.239Z"
    }
   },
   "outputs": [
    {
     "data": {
      "text/plain": [
       "rand_int128 (generic function with 1 method)"
      ]
     },
     "execution_count": 33,
     "metadata": {},
     "output_type": "execute_result"
    }
   ],
   "source": [
    "rand_int128() = rand(Int128) & typemax(Int128)"
   ]
  },
  {
   "cell_type": "code",
   "execution_count": 34,
   "metadata": {
    "ExecuteTime": {
     "end_time": "2020-09-06T17:41:08.310000+09:00",
     "start_time": "2020-09-06T08:40:32.244Z"
    }
   },
   "outputs": [
    {
     "data": {
      "text/plain": [
       "BenchmarkTools.Trial: \n",
       "  memory estimate:  0 bytes\n",
       "  allocs estimate:  0\n",
       "  --------------\n",
       "  minimum time:     2.708 ns (0.00% GC)\n",
       "  median time:      25.444 ns (0.00% GC)\n",
       "  mean time:        18.498 ns (0.00% GC)\n",
       "  maximum time:     93.586 ns (0.00% GC)\n",
       "  --------------\n",
       "  samples:          10000\n",
       "  evals/sample:     1000"
      ]
     },
     "execution_count": 34,
     "metadata": {},
     "output_type": "execute_result"
    }
   ],
   "source": [
    "@benchmark issquare(n) setup=(n=rand_int128())"
   ]
  },
  {
   "cell_type": "code",
   "execution_count": 35,
   "metadata": {
    "ExecuteTime": {
     "end_time": "2020-09-06T17:41:09.342000+09:00",
     "start_time": "2020-09-06T08:40:32.247Z"
    }
   },
   "outputs": [
    {
     "data": {
      "text/plain": [
       "BenchmarkTools.Trial: \n",
       "  memory estimate:  0 bytes\n",
       "  allocs estimate:  0\n",
       "  --------------\n",
       "  minimum time:     43.527 ns (0.00% GC)\n",
       "  median time:      45.331 ns (0.00% GC)\n",
       "  mean time:        46.067 ns (0.00% GC)\n",
       "  maximum time:     126.147 ns (0.00% GC)\n",
       "  --------------\n",
       "  samples:          10000\n",
       "  evals/sample:     990"
      ]
     },
     "execution_count": 35,
     "metadata": {},
     "output_type": "execute_result"
    }
   ],
   "source": [
    "@benchmark Squareness.issquare_with_isqrt(n) setup=(n=rand_int128())"
   ]
  },
  {
   "cell_type": "code",
   "execution_count": 36,
   "metadata": {
    "ExecuteTime": {
     "end_time": "2020-09-06T17:41:15.525000+09:00",
     "start_time": "2020-09-06T08:40:32.249Z"
    }
   },
   "outputs": [
    {
     "data": {
      "text/plain": [
       "BenchmarkTools.Trial: \n",
       "  memory estimate:  0 bytes\n",
       "  allocs estimate:  0\n",
       "  --------------\n",
       "  minimum time:     2.585 ns (0.00% GC)\n",
       "  median time:      1.838 μs (0.00% GC)\n",
       "  mean time:        1.253 μs (0.00% GC)\n",
       "  maximum time:     2.446 μs (0.00% GC)\n",
       "  --------------\n",
       "  samples:          3991\n",
       "  evals/sample:     1000"
      ]
     },
     "execution_count": 36,
     "metadata": {},
     "output_type": "execute_result"
    }
   ],
   "source": [
    "@benchmark issquare_with_simple_newton(n) setup=(n=rand_int128())"
   ]
  },
  {
   "cell_type": "markdown",
   "metadata": {},
   "source": [
    "#### `Int128` × 100"
   ]
  },
  {
   "cell_type": "code",
   "execution_count": 37,
   "metadata": {
    "ExecuteTime": {
     "end_time": "2020-09-06T17:41:15.526000+09:00",
     "start_time": "2020-09-06T08:40:32.252Z"
    }
   },
   "outputs": [
    {
     "data": {
      "text/plain": [
       "rand_int128 (generic function with 2 methods)"
      ]
     },
     "execution_count": 37,
     "metadata": {},
     "output_type": "execute_result"
    }
   ],
   "source": [
    "rand_int128(N) = rand(Int128, N) .& typemax(Int128)"
   ]
  },
  {
   "cell_type": "code",
   "execution_count": 38,
   "metadata": {
    "ExecuteTime": {
     "end_time": "2020-09-06T17:41:17.435000+09:00",
     "start_time": "2020-09-06T08:40:32.254Z"
    }
   },
   "outputs": [
    {
     "data": {
      "text/plain": [
       "BenchmarkTools.Trial: \n",
       "  memory estimate:  128 bytes\n",
       "  allocs estimate:  2\n",
       "  --------------\n",
       "  minimum time:     1.509 μs (0.00% GC)\n",
       "  median time:      2.002 μs (0.00% GC)\n",
       "  mean time:        2.053 μs (0.83% GC)\n",
       "  maximum time:     173.143 μs (98.70% GC)\n",
       "  --------------\n",
       "  samples:          10000\n",
       "  evals/sample:     10"
      ]
     },
     "execution_count": 38,
     "metadata": {},
     "output_type": "execute_result"
    }
   ],
   "source": [
    "@benchmark issquare.(n) setup=(n=rand_int128(100))"
   ]
  },
  {
   "cell_type": "code",
   "execution_count": 39,
   "metadata": {
    "ExecuteTime": {
     "end_time": "2020-09-06T17:41:20.786000+09:00",
     "start_time": "2020-09-06T08:40:32.257Z"
    }
   },
   "outputs": [
    {
     "data": {
      "text/plain": [
       "BenchmarkTools.Trial: \n",
       "  memory estimate:  128 bytes\n",
       "  allocs estimate:  2\n",
       "  --------------\n",
       "  minimum time:     4.560 μs (0.00% GC)\n",
       "  median time:      4.618 μs (0.00% GC)\n",
       "  mean time:        4.772 μs (0.00% GC)\n",
       "  maximum time:     16.818 μs (0.00% GC)\n",
       "  --------------\n",
       "  samples:          10000\n",
       "  evals/sample:     7"
      ]
     },
     "execution_count": 39,
     "metadata": {},
     "output_type": "execute_result"
    }
   ],
   "source": [
    "@benchmark Squareness.issquare_with_isqrt.(n) setup=(n=rand_int128(100))"
   ]
  },
  {
   "cell_type": "code",
   "execution_count": 40,
   "metadata": {
    "ExecuteTime": {
     "end_time": "2020-09-06T17:41:27.754000+09:00",
     "start_time": "2020-09-06T08:40:32.260Z"
    }
   },
   "outputs": [
    {
     "data": {
      "text/plain": [
       "BenchmarkTools.Trial: \n",
       "  memory estimate:  128 bytes\n",
       "  allocs estimate:  2\n",
       "  --------------\n",
       "  minimum time:     95.457 μs (0.00% GC)\n",
       "  median time:      129.455 μs (0.00% GC)\n",
       "  mean time:        131.133 μs (0.00% GC)\n",
       "  maximum time:     287.884 μs (0.00% GC)\n",
       "  --------------\n",
       "  samples:          10000\n",
       "  evals/sample:     1"
      ]
     },
     "execution_count": 40,
     "metadata": {},
     "output_type": "execute_result"
    }
   ],
   "source": [
    "@benchmark issquare_with_simple_newton.(n) setup=(n=rand_int128(100))"
   ]
  },
  {
   "cell_type": "markdown",
   "metadata": {},
   "source": [
    "#### `BigInt`"
   ]
  },
  {
   "cell_type": "code",
   "execution_count": 41,
   "metadata": {
    "ExecuteTime": {
     "end_time": "2020-09-06T17:41:27.824000+09:00",
     "start_time": "2020-09-06T08:40:32.262Z"
    }
   },
   "outputs": [
    {
     "data": {
      "text/plain": [
       "rand_mpz (generic function with 1 method)"
      ]
     },
     "execution_count": 41,
     "metadata": {},
     "output_type": "execute_result"
    }
   ],
   "source": [
    "rand_mpz() = (big(rand(UInt128)) << rand(0:128)) + rand(UInt128)"
   ]
  },
  {
   "cell_type": "code",
   "execution_count": 42,
   "metadata": {
    "ExecuteTime": {
     "end_time": "2020-09-06T17:41:38.808000+09:00",
     "start_time": "2020-09-06T08:40:32.264Z"
    }
   },
   "outputs": [
    {
     "data": {
      "text/plain": [
       "BenchmarkTools.Trial: \n",
       "  memory estimate:  0 bytes\n",
       "  allocs estimate:  0\n",
       "  --------------\n",
       "  minimum time:     7.553 ns (0.00% GC)\n",
       "  median time:      293.926 μs (1.25% GC)\n",
       "  mean time:        268.913 μs (3.09% GC)\n",
       "  maximum time:     630.357 μs (1.34% GC)\n",
       "  --------------\n",
       "  samples:          20\n",
       "  evals/sample:     999"
      ]
     },
     "execution_count": 42,
     "metadata": {},
     "output_type": "execute_result"
    }
   ],
   "source": [
    "# @benchmark issquare(n) setup=(n=rand_mpz())\n",
    "@benchmark Squareness.issquare_with_padic_newton(n) setup=(n=rand_mpz())"
   ]
  },
  {
   "cell_type": "code",
   "execution_count": 43,
   "metadata": {
    "ExecuteTime": {
     "end_time": "2020-09-06T17:41:41.923000+09:00",
     "start_time": "2020-09-06T08:40:32.267Z"
    }
   },
   "outputs": [
    {
     "data": {
      "text/plain": [
       "BenchmarkTools.Trial: \n",
       "  memory estimate:  88 bytes\n",
       "  allocs estimate:  5\n",
       "  --------------\n",
       "  minimum time:     133.862 ns (0.00% GC)\n",
       "  median time:      244.319 ns (0.00% GC)\n",
       "  mean time:        395.420 ns (20.99% GC)\n",
       "  maximum time:     173.369 μs (75.62% GC)\n",
       "  --------------\n",
       "  samples:          10000\n",
       "  evals/sample:     595"
      ]
     },
     "execution_count": 43,
     "metadata": {},
     "output_type": "execute_result"
    }
   ],
   "source": [
    "@benchmark Squareness.issquare_with_isqrt(n) setup=(n=rand_mpz())"
   ]
  },
  {
   "cell_type": "code",
   "execution_count": 44,
   "metadata": {
    "ExecuteTime": {
     "end_time": "2020-09-06T17:41:52.629000+09:00",
     "start_time": "2020-09-06T08:40:32.269Z"
    }
   },
   "outputs": [
    {
     "data": {
      "text/plain": [
       "BenchmarkTools.Trial: \n",
       "  memory estimate:  0 bytes\n",
       "  allocs estimate:  0\n",
       "  --------------\n",
       "  minimum time:     8.577 ns (0.00% GC)\n",
       "  median time:      20.595 μs (0.00% GC)\n",
       "  mean time:        29.174 μs (23.94% GC)\n",
       "  maximum time:     139.787 μs (55.07% GC)\n",
       "  --------------\n",
       "  samples:          174\n",
       "  evals/sample:     999"
      ]
     },
     "execution_count": 44,
     "metadata": {},
     "output_type": "execute_result"
    }
   ],
   "source": [
    "@benchmark issquare_with_simple_newton(n) setup=(n=rand_mpz())"
   ]
  },
  {
   "cell_type": "code",
   "execution_count": null,
   "metadata": {},
   "outputs": [],
   "source": []
  }
 ],
 "metadata": {
  "kernelspec": {
   "display_name": "Julia 1.5.1",
   "language": "julia",
   "name": "julia-1.5"
  },
  "language_info": {
   "file_extension": ".jl",
   "mimetype": "application/julia",
   "name": "julia",
   "version": "1.5.1"
  }
 },
 "nbformat": 4,
 "nbformat_minor": 2
}
