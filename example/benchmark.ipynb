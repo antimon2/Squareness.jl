{
 "cells": [
  {
   "cell_type": "code",
   "execution_count": 1,
   "metadata": {
    "ExecuteTime": {
     "end_time": "2020-09-08T22:24:16.526000+09:00",
     "start_time": "2020-09-08T13:24:14.335Z"
    }
   },
   "outputs": [
    {
     "name": "stdout",
     "output_type": "stream",
     "text": [
      "Julia Version 1.5.1\n",
      "Commit 697e782ab8 (2020-08-25 20:08 UTC)\n",
      "Platform Info:\n",
      "  OS: Linux (x86_64-pc-linux-gnu)\n",
      "  CPU: Intel(R) Core(TM) i7-9750H CPU @ 2.60GHz\n",
      "  WORD_SIZE: 64\n",
      "  LIBM: libopenlibm\n",
      "  LLVM: libLLVM-9.0.1 (ORCJIT, skylake)\n"
     ]
    }
   ],
   "source": [
    "versioninfo()"
   ]
  },
  {
   "cell_type": "code",
   "execution_count": null,
   "metadata": {
    "ExecuteTime": {
     "end_time": "2020-09-06T17:39:38.845000+09:00",
     "start_time": "2020-09-06T08:39:38.451Z"
    }
   },
   "outputs": [],
   "source": [
    "]activate ."
   ]
  },
  {
   "cell_type": "code",
   "execution_count": 2,
   "metadata": {
    "ExecuteTime": {
     "end_time": "2020-09-08T22:24:25.404000+09:00",
     "start_time": "2020-09-08T13:24:21.586Z"
    }
   },
   "outputs": [],
   "source": [
    "]instantiate"
   ]
  },
  {
   "cell_type": "code",
   "execution_count": 3,
   "metadata": {
    "ExecuteTime": {
     "end_time": "2020-09-08T22:24:25.405000+09:00",
     "start_time": "2020-09-08T13:24:21.589Z"
    }
   },
   "outputs": [],
   "source": [
    "using Squareness"
   ]
  },
  {
   "cell_type": "markdown",
   "metadata": {},
   "source": [
    "## Simple Newton Method"
   ]
  },
  {
   "cell_type": "code",
   "execution_count": 4,
   "metadata": {
    "ExecuteTime": {
     "end_time": "2020-09-08T22:24:25.860000+09:00",
     "start_time": "2020-09-08T13:24:21.592Z"
    }
   },
   "outputs": [
    {
     "data": {
      "text/plain": [
       "issquare_with_simple_newton (generic function with 3 methods)"
      ]
     },
     "execution_count": 4,
     "metadata": {},
     "output_type": "execute_result"
    }
   ],
   "source": [
    "function _issquare_with_simple_newton(x::I) where {I <: Integer}\n",
    "    x == 0 && return true\n",
    "    xtz = trailing_zeros(x)\n",
    "    isodd(xtz) && return false\n",
    "    x >>= unsigned(xtz)\n",
    "    o_xrt::I = x\n",
    "    xrt::I = (x + 0x1) >> 0x1\n",
    "    xrt == 0 && return false  # overflow\n",
    "    while xrt < o_xrt\n",
    "        o_xrt = xrt\n",
    "        xrt = (xrt + x ÷ xrt) >> 0x1\n",
    "    end\n",
    "    xrt * xrt == x\n",
    "end\n",
    "\n",
    "issquare_with_simple_newton(x::Signed) = x < 0 ? false : _issquare_with_simple_newton(x % Unsigned)\n",
    "issquare_with_simple_newton(x::Unsigned) = _issquare_with_simple_newton(x)\n",
    "issquare_with_simple_newton(x::BigInt) = x < 0 ? false : _issquare_with_simple_newton(x)"
   ]
  },
  {
   "cell_type": "markdown",
   "metadata": {},
   "source": [
    "### Simple Check"
   ]
  },
  {
   "cell_type": "code",
   "execution_count": 5,
   "metadata": {
    "ExecuteTime": {
     "end_time": "2020-09-08T22:24:26.076000+09:00",
     "start_time": "2020-09-08T13:24:21.595Z"
    }
   },
   "outputs": [
    {
     "data": {
      "text/plain": [
       "true"
      ]
     },
     "execution_count": 5,
     "metadata": {},
     "output_type": "execute_result"
    }
   ],
   "source": [
    "all(issquare(x) == issquare_with_simple_newton(x) == Squareness.issquare_with_isqrt(x) for x in rand(Int, 10000))"
   ]
  },
  {
   "cell_type": "code",
   "execution_count": 6,
   "metadata": {
    "ExecuteTime": {
     "end_time": "2020-09-08T22:24:26.134000+09:00",
     "start_time": "2020-09-08T13:24:21.597Z"
    }
   },
   "outputs": [
    {
     "data": {
      "text/plain": [
       "true"
      ]
     },
     "execution_count": 6,
     "metadata": {},
     "output_type": "execute_result"
    }
   ],
   "source": [
    "all(issquare(x) == issquare_with_simple_newton(x) == Squareness.issquare_with_isqrt(x) for x in rand(Int32, 10000))"
   ]
  },
  {
   "cell_type": "markdown",
   "metadata": {
    "ExecuteTime": {
     "end_time": "2020-08-31T10:40:20+09:00",
     "start_time": "2020-08-31T01:40:17.960Z"
    }
   },
   "source": [
    "## Benchmark"
   ]
  },
  {
   "cell_type": "code",
   "execution_count": 7,
   "metadata": {
    "ExecuteTime": {
     "end_time": "2020-09-08T22:24:26.153000+09:00",
     "start_time": "2020-09-08T13:24:21.599Z"
    }
   },
   "outputs": [],
   "source": [
    "using BenchmarkTools"
   ]
  },
  {
   "cell_type": "markdown",
   "metadata": {},
   "source": [
    "### Compare `issquare()`(with P-adic Newton) vs `issquare_with_isqrt()` vs `issquare_with_simple_newton()`"
   ]
  },
  {
   "cell_type": "markdown",
   "metadata": {},
   "source": [
    "#### `Int64`"
   ]
  },
  {
   "cell_type": "code",
   "execution_count": 8,
   "metadata": {
    "ExecuteTime": {
     "end_time": "2020-09-08T22:24:26.216000+09:00",
     "start_time": "2020-09-08T13:24:21.602Z"
    }
   },
   "outputs": [
    {
     "data": {
      "text/plain": [
       "rand_int64 (generic function with 1 method)"
      ]
     },
     "execution_count": 8,
     "metadata": {},
     "output_type": "execute_result"
    }
   ],
   "source": [
    "rand_int64() = rand(Int64) & typemax(Int64)"
   ]
  },
  {
   "cell_type": "code",
   "execution_count": 9,
   "metadata": {
    "ExecuteTime": {
     "end_time": "2020-09-08T22:24:27.761000+09:00",
     "start_time": "2020-09-08T13:24:21.604Z"
    }
   },
   "outputs": [
    {
     "data": {
      "text/plain": [
       "BenchmarkTools.Trial: \n",
       "  memory estimate:  0 bytes\n",
       "  allocs estimate:  0\n",
       "  --------------\n",
       "  minimum time:     2.946 ns (0.00% GC)\n",
       "  median time:      5.248 ns (0.00% GC)\n",
       "  mean time:        4.737 ns (0.00% GC)\n",
       "  maximum time:     38.599 ns (0.00% GC)\n",
       "  --------------\n",
       "  samples:          10000\n",
       "  evals/sample:     1000"
      ]
     },
     "execution_count": 9,
     "metadata": {},
     "output_type": "execute_result"
    }
   ],
   "source": [
    "@benchmark issquare(n) setup=(n=rand_int64())"
   ]
  },
  {
   "cell_type": "code",
   "execution_count": 10,
   "metadata": {
    "ExecuteTime": {
     "end_time": "2020-09-08T22:24:28.357000+09:00",
     "start_time": "2020-09-08T13:24:21.607Z"
    }
   },
   "outputs": [
    {
     "data": {
      "text/plain": [
       "BenchmarkTools.Trial: \n",
       "  memory estimate:  0 bytes\n",
       "  allocs estimate:  0\n",
       "  --------------\n",
       "  minimum time:     7.297 ns (0.00% GC)\n",
       "  median time:      7.327 ns (0.00% GC)\n",
       "  mean time:        7.690 ns (0.00% GC)\n",
       "  maximum time:     53.945 ns (0.00% GC)\n",
       "  --------------\n",
       "  samples:          10000\n",
       "  evals/sample:     999"
      ]
     },
     "execution_count": 10,
     "metadata": {},
     "output_type": "execute_result"
    }
   ],
   "source": [
    "@benchmark Squareness.issquare_with_isqrt(n) setup=(n=rand_int64())"
   ]
  },
  {
   "cell_type": "code",
   "execution_count": 11,
   "metadata": {
    "ExecuteTime": {
     "end_time": "2020-09-08T22:24:31.227000+09:00",
     "start_time": "2020-09-08T13:24:21.609Z"
    }
   },
   "outputs": [
    {
     "data": {
      "text/plain": [
       "BenchmarkTools.Trial: \n",
       "  memory estimate:  0 bytes\n",
       "  allocs estimate:  0\n",
       "  --------------\n",
       "  minimum time:     2.346 ns (0.00% GC)\n",
       "  median time:      318.233 ns (0.00% GC)\n",
       "  mean time:        223.376 ns (0.00% GC)\n",
       "  maximum time:     614.047 ns (0.00% GC)\n",
       "  --------------\n",
       "  samples:          10000\n",
       "  evals/sample:     1000"
      ]
     },
     "execution_count": 11,
     "metadata": {},
     "output_type": "execute_result"
    }
   ],
   "source": [
    "@benchmark issquare_with_simple_newton(n) setup=(n=rand_int64())"
   ]
  },
  {
   "cell_type": "markdown",
   "metadata": {},
   "source": [
    "#### `Int64` × 100"
   ]
  },
  {
   "cell_type": "code",
   "execution_count": 12,
   "metadata": {
    "ExecuteTime": {
     "end_time": "2020-09-08T22:24:31.228000+09:00",
     "start_time": "2020-09-08T13:24:21.611Z"
    }
   },
   "outputs": [
    {
     "data": {
      "text/plain": [
       "rand_int64 (generic function with 2 methods)"
      ]
     },
     "execution_count": 12,
     "metadata": {},
     "output_type": "execute_result"
    }
   ],
   "source": [
    "rand_int64(N) = rand(Int64, N) .& typemax(Int64)"
   ]
  },
  {
   "cell_type": "code",
   "execution_count": 13,
   "metadata": {
    "ExecuteTime": {
     "end_time": "2020-09-08T22:24:33.292000+09:00",
     "start_time": "2020-09-08T13:24:21.613Z"
    }
   },
   "outputs": [
    {
     "data": {
      "text/plain": [
       "BenchmarkTools.Trial: \n",
       "  memory estimate:  128 bytes\n",
       "  allocs estimate:  2\n",
       "  --------------\n",
       "  minimum time:     474.588 ns (0.00% GC)\n",
       "  median time:      569.273 ns (0.00% GC)\n",
       "  mean time:        589.108 ns (1.25% GC)\n",
       "  maximum time:     15.586 μs (96.05% GC)\n",
       "  --------------\n",
       "  samples:          10000\n",
       "  evals/sample:     194"
      ]
     },
     "execution_count": 13,
     "metadata": {},
     "output_type": "execute_result"
    }
   ],
   "source": [
    "@benchmark issquare.(n) setup=(n=rand_int64(100))"
   ]
  },
  {
   "cell_type": "code",
   "execution_count": 14,
   "metadata": {
    "ExecuteTime": {
     "end_time": "2020-09-08T22:24:34.890000+09:00",
     "start_time": "2020-09-08T13:24:21.615Z"
    }
   },
   "outputs": [
    {
     "data": {
      "text/plain": [
       "BenchmarkTools.Trial: \n",
       "  memory estimate:  128 bytes\n",
       "  allocs estimate:  2\n",
       "  --------------\n",
       "  minimum time:     338.957 ns (0.00% GC)\n",
       "  median time:      362.410 ns (0.00% GC)\n",
       "  mean time:        379.563 ns (2.21% GC)\n",
       "  maximum time:     14.676 μs (97.32% GC)\n",
       "  --------------\n",
       "  samples:          10000\n",
       "  evals/sample:     210"
      ]
     },
     "execution_count": 14,
     "metadata": {},
     "output_type": "execute_result"
    }
   ],
   "source": [
    "@benchmark Squareness.issquare_with_isqrt.(n) setup=(n=rand_int64(100))"
   ]
  },
  {
   "cell_type": "code",
   "execution_count": 15,
   "metadata": {
    "ExecuteTime": {
     "end_time": "2020-09-08T22:24:40.720000+09:00",
     "start_time": "2020-09-08T13:24:21.617Z"
    }
   },
   "outputs": [
    {
     "data": {
      "text/plain": [
       "BenchmarkTools.Trial: \n",
       "  memory estimate:  128 bytes\n",
       "  allocs estimate:  2\n",
       "  --------------\n",
       "  minimum time:     16.207 μs (0.00% GC)\n",
       "  median time:      22.601 μs (0.00% GC)\n",
       "  mean time:        23.060 μs (0.00% GC)\n",
       "  maximum time:     79.982 μs (0.00% GC)\n",
       "  --------------\n",
       "  samples:          10000\n",
       "  evals/sample:     1"
      ]
     },
     "execution_count": 15,
     "metadata": {},
     "output_type": "execute_result"
    }
   ],
   "source": [
    "@benchmark issquare_with_simple_newton.(n) setup=(n=rand_int64(100))"
   ]
  },
  {
   "cell_type": "markdown",
   "metadata": {},
   "source": [
    "#### `Int32`"
   ]
  },
  {
   "cell_type": "code",
   "execution_count": 16,
   "metadata": {
    "ExecuteTime": {
     "end_time": "2020-09-08T22:24:40.788000+09:00",
     "start_time": "2020-09-08T13:24:21.619Z"
    }
   },
   "outputs": [
    {
     "data": {
      "text/plain": [
       "rand_int32 (generic function with 1 method)"
      ]
     },
     "execution_count": 16,
     "metadata": {},
     "output_type": "execute_result"
    }
   ],
   "source": [
    "rand_int32() = rand(Int32) & typemax(Int32)"
   ]
  },
  {
   "cell_type": "code",
   "execution_count": 17,
   "metadata": {
    "ExecuteTime": {
     "end_time": "2020-09-08T22:24:41.351000+09:00",
     "start_time": "2020-09-08T13:24:21.620Z"
    }
   },
   "outputs": [
    {
     "data": {
      "text/plain": [
       "BenchmarkTools.Trial: \n",
       "  memory estimate:  0 bytes\n",
       "  allocs estimate:  0\n",
       "  --------------\n",
       "  minimum time:     2.880 ns (0.00% GC)\n",
       "  median time:      4.322 ns (0.00% GC)\n",
       "  mean time:        4.146 ns (0.00% GC)\n",
       "  maximum time:     33.974 ns (0.00% GC)\n",
       "  --------------\n",
       "  samples:          10000\n",
       "  evals/sample:     1000"
      ]
     },
     "execution_count": 17,
     "metadata": {},
     "output_type": "execute_result"
    }
   ],
   "source": [
    "@benchmark issquare(n) setup=(n=rand_int32())"
   ]
  },
  {
   "cell_type": "code",
   "execution_count": 18,
   "metadata": {
    "ExecuteTime": {
     "end_time": "2020-09-08T22:24:41.944000+09:00",
     "start_time": "2020-09-08T13:24:21.622Z"
    }
   },
   "outputs": [
    {
     "data": {
      "text/plain": [
       "BenchmarkTools.Trial: \n",
       "  memory estimate:  0 bytes\n",
       "  allocs estimate:  0\n",
       "  --------------\n",
       "  minimum time:     7.428 ns (0.00% GC)\n",
       "  median time:      7.456 ns (0.00% GC)\n",
       "  mean time:        7.549 ns (0.00% GC)\n",
       "  maximum time:     44.383 ns (0.00% GC)\n",
       "  --------------\n",
       "  samples:          10000\n",
       "  evals/sample:     999"
      ]
     },
     "execution_count": 18,
     "metadata": {},
     "output_type": "execute_result"
    }
   ],
   "source": [
    "@benchmark Squareness.issquare_with_isqrt(n) setup=(n=rand_int32())"
   ]
  },
  {
   "cell_type": "code",
   "execution_count": 19,
   "metadata": {
    "ExecuteTime": {
     "end_time": "2020-09-08T22:24:43.191000+09:00",
     "start_time": "2020-09-08T13:24:21.623Z"
    }
   },
   "outputs": [
    {
     "data": {
      "text/plain": [
       "BenchmarkTools.Trial: \n",
       "  memory estimate:  0 bytes\n",
       "  allocs estimate:  0\n",
       "  --------------\n",
       "  minimum time:     2.585 ns (0.00% GC)\n",
       "  median time:      98.625 ns (0.00% GC)\n",
       "  mean time:        69.919 ns (0.00% GC)\n",
       "  maximum time:     259.276 ns (0.00% GC)\n",
       "  --------------\n",
       "  samples:          10000\n",
       "  evals/sample:     1000"
      ]
     },
     "execution_count": 19,
     "metadata": {},
     "output_type": "execute_result"
    }
   ],
   "source": [
    "@benchmark issquare_with_simple_newton(n) setup=(n=rand_int32())"
   ]
  },
  {
   "cell_type": "markdown",
   "metadata": {},
   "source": [
    "#### `Int32` × 100"
   ]
  },
  {
   "cell_type": "code",
   "execution_count": 20,
   "metadata": {
    "ExecuteTime": {
     "end_time": "2020-09-08T22:24:43.192000+09:00",
     "start_time": "2020-09-08T13:24:21.625Z"
    }
   },
   "outputs": [
    {
     "data": {
      "text/plain": [
       "rand_int32 (generic function with 2 methods)"
      ]
     },
     "execution_count": 20,
     "metadata": {},
     "output_type": "execute_result"
    }
   ],
   "source": [
    "rand_int32(N) = rand(Int32, N) .& typemax(Int32)"
   ]
  },
  {
   "cell_type": "code",
   "execution_count": 21,
   "metadata": {
    "ExecuteTime": {
     "end_time": "2020-09-08T22:24:45.116000+09:00",
     "start_time": "2020-09-08T13:24:21.627Z"
    }
   },
   "outputs": [
    {
     "data": {
      "text/plain": [
       "BenchmarkTools.Trial: \n",
       "  memory estimate:  128 bytes\n",
       "  allocs estimate:  2\n",
       "  --------------\n",
       "  minimum time:     417.176 ns (0.00% GC)\n",
       "  median time:      504.842 ns (0.00% GC)\n",
       "  mean time:        523.611 ns (1.45% GC)\n",
       "  maximum time:     16.035 μs (96.71% GC)\n",
       "  --------------\n",
       "  samples:          10000\n",
       "  evals/sample:     199"
      ]
     },
     "execution_count": 21,
     "metadata": {},
     "output_type": "execute_result"
    }
   ],
   "source": [
    "@benchmark issquare.(n) setup=(n=rand_int32(100))"
   ]
  },
  {
   "cell_type": "code",
   "execution_count": 22,
   "metadata": {
    "ExecuteTime": {
     "end_time": "2020-09-08T22:24:46.765000+09:00",
     "start_time": "2020-09-08T13:24:21.628Z"
    }
   },
   "outputs": [
    {
     "data": {
      "text/plain": [
       "BenchmarkTools.Trial: \n",
       "  memory estimate:  128 bytes\n",
       "  allocs estimate:  2\n",
       "  --------------\n",
       "  minimum time:     366.965 ns (0.00% GC)\n",
       "  median time:      397.040 ns (0.00% GC)\n",
       "  mean time:        413.289 ns (1.88% GC)\n",
       "  maximum time:     16.385 μs (97.48% GC)\n",
       "  --------------\n",
       "  samples:          10000\n",
       "  evals/sample:     201"
      ]
     },
     "execution_count": 22,
     "metadata": {},
     "output_type": "execute_result"
    }
   ],
   "source": [
    "@benchmark Squareness.issquare_with_isqrt.(n) setup=(n=rand_int32(100))"
   ]
  },
  {
   "cell_type": "code",
   "execution_count": 23,
   "metadata": {
    "ExecuteTime": {
     "end_time": "2020-09-08T22:24:51.642000+09:00",
     "start_time": "2020-09-08T13:24:21.630Z"
    }
   },
   "outputs": [
    {
     "data": {
      "text/plain": [
       "BenchmarkTools.Trial: \n",
       "  memory estimate:  128 bytes\n",
       "  allocs estimate:  2\n",
       "  --------------\n",
       "  minimum time:     5.539 μs (0.00% GC)\n",
       "  median time:      7.767 μs (0.00% GC)\n",
       "  mean time:        7.889 μs (0.00% GC)\n",
       "  maximum time:     21.532 μs (0.00% GC)\n",
       "  --------------\n",
       "  samples:          10000\n",
       "  evals/sample:     6"
      ]
     },
     "execution_count": 23,
     "metadata": {},
     "output_type": "execute_result"
    }
   ],
   "source": [
    "@benchmark issquare_with_simple_newton.(n) setup=(n=rand_int32(100))"
   ]
  },
  {
   "cell_type": "markdown",
   "metadata": {},
   "source": [
    "#### `Int16`"
   ]
  },
  {
   "cell_type": "code",
   "execution_count": 24,
   "metadata": {
    "ExecuteTime": {
     "end_time": "2020-09-08T22:24:51.711000+09:00",
     "start_time": "2020-09-08T13:24:21.634Z"
    }
   },
   "outputs": [
    {
     "data": {
      "text/plain": [
       "rand_int16 (generic function with 1 method)"
      ]
     },
     "execution_count": 24,
     "metadata": {},
     "output_type": "execute_result"
    }
   ],
   "source": [
    "rand_int16() = rand(Int16) & typemax(Int16)"
   ]
  },
  {
   "cell_type": "code",
   "execution_count": 25,
   "metadata": {
    "ExecuteTime": {
     "end_time": "2020-09-08T22:24:52.299000+09:00",
     "start_time": "2020-09-08T13:24:21.635Z"
    }
   },
   "outputs": [
    {
     "data": {
      "text/plain": [
       "BenchmarkTools.Trial: \n",
       "  memory estimate:  0 bytes\n",
       "  allocs estimate:  0\n",
       "  --------------\n",
       "  minimum time:     2.647 ns (0.00% GC)\n",
       "  median time:      5.524 ns (0.00% GC)\n",
       "  mean time:        4.765 ns (0.00% GC)\n",
       "  maximum time:     35.386 ns (0.00% GC)\n",
       "  --------------\n",
       "  samples:          10000\n",
       "  evals/sample:     1000"
      ]
     },
     "execution_count": 25,
     "metadata": {},
     "output_type": "execute_result"
    }
   ],
   "source": [
    "@benchmark issquare(n) setup=(n=rand_int16())"
   ]
  },
  {
   "cell_type": "code",
   "execution_count": 26,
   "metadata": {
    "ExecuteTime": {
     "end_time": "2020-09-08T22:24:52.901000+09:00",
     "start_time": "2020-09-08T13:24:21.637Z"
    }
   },
   "outputs": [
    {
     "data": {
      "text/plain": [
       "BenchmarkTools.Trial: \n",
       "  memory estimate:  0 bytes\n",
       "  allocs estimate:  0\n",
       "  --------------\n",
       "  minimum time:     6.229 ns (0.00% GC)\n",
       "  median time:      7.417 ns (0.00% GC)\n",
       "  mean time:        7.480 ns (0.00% GC)\n",
       "  maximum time:     39.636 ns (0.00% GC)\n",
       "  --------------\n",
       "  samples:          10000\n",
       "  evals/sample:     999"
      ]
     },
     "execution_count": 26,
     "metadata": {},
     "output_type": "execute_result"
    }
   ],
   "source": [
    "@benchmark Squareness.issquare_with_isqrt(n) setup=(n=rand_int16())"
   ]
  },
  {
   "cell_type": "code",
   "execution_count": 27,
   "metadata": {
    "ExecuteTime": {
     "end_time": "2020-09-08T22:24:53.825000+09:00",
     "start_time": "2020-09-08T13:24:21.639Z"
    }
   },
   "outputs": [
    {
     "data": {
      "text/plain": [
       "BenchmarkTools.Trial: \n",
       "  memory estimate:  0 bytes\n",
       "  allocs estimate:  0\n",
       "  --------------\n",
       "  minimum time:     2.374 ns (0.00% GC)\n",
       "  median time:      51.880 ns (0.00% GC)\n",
       "  mean time:        38.604 ns (0.00% GC)\n",
       "  maximum time:     145.601 ns (0.00% GC)\n",
       "  --------------\n",
       "  samples:          10000\n",
       "  evals/sample:     1000"
      ]
     },
     "execution_count": 27,
     "metadata": {},
     "output_type": "execute_result"
    }
   ],
   "source": [
    "@benchmark issquare_with_simple_newton(n) setup=(n=rand_int16())"
   ]
  },
  {
   "cell_type": "markdown",
   "metadata": {},
   "source": [
    "#### `Int16` × 100"
   ]
  },
  {
   "cell_type": "code",
   "execution_count": 28,
   "metadata": {
    "ExecuteTime": {
     "end_time": "2020-09-08T22:24:53.826000+09:00",
     "start_time": "2020-09-08T13:24:21.641Z"
    }
   },
   "outputs": [
    {
     "data": {
      "text/plain": [
       "rand_int16 (generic function with 2 methods)"
      ]
     },
     "execution_count": 28,
     "metadata": {},
     "output_type": "execute_result"
    }
   ],
   "source": [
    "rand_int16(N) = rand(Int16, N) .& typemax(Int16)"
   ]
  },
  {
   "cell_type": "code",
   "execution_count": 29,
   "metadata": {
    "ExecuteTime": {
     "end_time": "2020-09-08T22:24:55.604000+09:00",
     "start_time": "2020-09-08T13:24:21.643Z"
    }
   },
   "outputs": [
    {
     "data": {
      "text/plain": [
       "BenchmarkTools.Trial: \n",
       "  memory estimate:  128 bytes\n",
       "  allocs estimate:  2\n",
       "  --------------\n",
       "  minimum time:     364.132 ns (0.00% GC)\n",
       "  median time:      426.475 ns (0.00% GC)\n",
       "  mean time:        445.122 ns (1.86% GC)\n",
       "  maximum time:     20.976 μs (97.69% GC)\n",
       "  --------------\n",
       "  samples:          10000\n",
       "  evals/sample:     204"
      ]
     },
     "execution_count": 29,
     "metadata": {},
     "output_type": "execute_result"
    }
   ],
   "source": [
    "@benchmark issquare.(n) setup=(n=rand_int16(100))"
   ]
  },
  {
   "cell_type": "code",
   "execution_count": 30,
   "metadata": {
    "ExecuteTime": {
     "end_time": "2020-09-08T22:24:57.273000+09:00",
     "start_time": "2020-09-08T13:24:21.644Z"
    }
   },
   "outputs": [
    {
     "data": {
      "text/plain": [
       "BenchmarkTools.Trial: \n",
       "  memory estimate:  128 bytes\n",
       "  allocs estimate:  2\n",
       "  --------------\n",
       "  minimum time:     382.285 ns (0.00% GC)\n",
       "  median time:      405.098 ns (0.00% GC)\n",
       "  mean time:        425.499 ns (1.91% GC)\n",
       "  maximum time:     17.447 μs (96.69% GC)\n",
       "  --------------\n",
       "  samples:          10000\n",
       "  evals/sample:     200"
      ]
     },
     "execution_count": 30,
     "metadata": {},
     "output_type": "execute_result"
    }
   ],
   "source": [
    "@benchmark Squareness.issquare_with_isqrt.(n) setup=(n=rand_int16(100))"
   ]
  },
  {
   "cell_type": "code",
   "execution_count": 31,
   "metadata": {
    "ExecuteTime": {
     "end_time": "2020-09-08T22:24:59.732000+09:00",
     "start_time": "2020-09-08T13:24:21.646Z"
    }
   },
   "outputs": [
    {
     "data": {
      "text/plain": [
       "BenchmarkTools.Trial: \n",
       "  memory estimate:  128 bytes\n",
       "  allocs estimate:  2\n",
       "  --------------\n",
       "  minimum time:     2.418 μs (0.00% GC)\n",
       "  median time:      3.325 μs (0.00% GC)\n",
       "  mean time:        3.401 μs (0.00% GC)\n",
       "  maximum time:     12.587 μs (0.00% GC)\n",
       "  --------------\n",
       "  samples:          10000\n",
       "  evals/sample:     9"
      ]
     },
     "execution_count": 31,
     "metadata": {},
     "output_type": "execute_result"
    }
   ],
   "source": [
    "@benchmark issquare_with_simple_newton.(n) setup=(n=rand_int16(100))"
   ]
  },
  {
   "cell_type": "markdown",
   "metadata": {},
   "source": [
    "#### `Int128`"
   ]
  },
  {
   "cell_type": "code",
   "execution_count": 32,
   "metadata": {
    "ExecuteTime": {
     "end_time": "2020-09-08T22:24:59.805000+09:00",
     "start_time": "2020-09-08T13:24:21.647Z"
    }
   },
   "outputs": [
    {
     "data": {
      "text/plain": [
       "rand_int128 (generic function with 1 method)"
      ]
     },
     "execution_count": 32,
     "metadata": {},
     "output_type": "execute_result"
    }
   ],
   "source": [
    "rand_int128() = rand(Int128) & typemax(Int128)"
   ]
  },
  {
   "cell_type": "code",
   "execution_count": 33,
   "metadata": {
    "ExecuteTime": {
     "end_time": "2020-09-08T22:25:00.547000+09:00",
     "start_time": "2020-09-08T13:24:21.650Z"
    }
   },
   "outputs": [
    {
     "data": {
      "text/plain": [
       "BenchmarkTools.Trial: \n",
       "  memory estimate:  0 bytes\n",
       "  allocs estimate:  0\n",
       "  --------------\n",
       "  minimum time:     3.119 ns (0.00% GC)\n",
       "  median time:      24.371 ns (0.00% GC)\n",
       "  mean time:        17.634 ns (0.00% GC)\n",
       "  maximum time:     70.616 ns (0.00% GC)\n",
       "  --------------\n",
       "  samples:          10000\n",
       "  evals/sample:     1000"
      ]
     },
     "execution_count": 33,
     "metadata": {},
     "output_type": "execute_result"
    }
   ],
   "source": [
    "@benchmark issquare(n) setup=(n=rand_int128())"
   ]
  },
  {
   "cell_type": "code",
   "execution_count": 34,
   "metadata": {
    "ExecuteTime": {
     "end_time": "2020-09-08T22:25:01.216000+09:00",
     "start_time": "2020-09-08T13:24:21.651Z"
    }
   },
   "outputs": [
    {
     "data": {
      "text/plain": [
       "BenchmarkTools.Trial: \n",
       "  memory estimate:  0 bytes\n",
       "  allocs estimate:  0\n",
       "  --------------\n",
       "  minimum time:     12.123 ns (0.00% GC)\n",
       "  median time:      12.697 ns (0.00% GC)\n",
       "  mean time:        12.900 ns (0.00% GC)\n",
       "  maximum time:     50.152 ns (0.00% GC)\n",
       "  --------------\n",
       "  samples:          10000\n",
       "  evals/sample:     999"
      ]
     },
     "execution_count": 34,
     "metadata": {},
     "output_type": "execute_result"
    }
   ],
   "source": [
    "@benchmark Squareness.issquare_with_isqrt(n) setup=(n=rand_int128())"
   ]
  },
  {
   "cell_type": "code",
   "execution_count": 35,
   "metadata": {
    "ExecuteTime": {
     "end_time": "2020-09-08T22:25:07.391000+09:00",
     "start_time": "2020-09-08T13:24:21.653Z"
    }
   },
   "outputs": [
    {
     "data": {
      "text/plain": [
       "BenchmarkTools.Trial: \n",
       "  memory estimate:  0 bytes\n",
       "  allocs estimate:  0\n",
       "  --------------\n",
       "  minimum time:     3.046 ns (0.00% GC)\n",
       "  median time:      1.794 μs (0.00% GC)\n",
       "  mean time:        1.237 μs (0.00% GC)\n",
       "  maximum time:     2.626 μs (0.00% GC)\n",
       "  --------------\n",
       "  samples:          4042\n",
       "  evals/sample:     1000"
      ]
     },
     "execution_count": 35,
     "metadata": {},
     "output_type": "execute_result"
    }
   ],
   "source": [
    "@benchmark issquare_with_simple_newton(n) setup=(n=rand_int128())"
   ]
  },
  {
   "cell_type": "markdown",
   "metadata": {},
   "source": [
    "#### `Int128` × 100"
   ]
  },
  {
   "cell_type": "code",
   "execution_count": 36,
   "metadata": {
    "ExecuteTime": {
     "end_time": "2020-09-08T22:25:07.392000+09:00",
     "start_time": "2020-09-08T13:24:21.655Z"
    }
   },
   "outputs": [
    {
     "data": {
      "text/plain": [
       "rand_int128 (generic function with 2 methods)"
      ]
     },
     "execution_count": 36,
     "metadata": {},
     "output_type": "execute_result"
    }
   ],
   "source": [
    "rand_int128(N) = rand(Int128, N) .& typemax(Int128)"
   ]
  },
  {
   "cell_type": "code",
   "execution_count": 37,
   "metadata": {
    "ExecuteTime": {
     "end_time": "2020-09-08T22:25:09.217000+09:00",
     "start_time": "2020-09-08T13:24:21.657Z"
    }
   },
   "outputs": [
    {
     "data": {
      "text/plain": [
       "BenchmarkTools.Trial: \n",
       "  memory estimate:  128 bytes\n",
       "  allocs estimate:  2\n",
       "  --------------\n",
       "  minimum time:     1.477 μs (0.00% GC)\n",
       "  median time:      1.916 μs (0.00% GC)\n",
       "  mean time:        1.981 μs (0.89% GC)\n",
       "  maximum time:     177.917 μs (98.68% GC)\n",
       "  --------------\n",
       "  samples:          10000\n",
       "  evals/sample:     10"
      ]
     },
     "execution_count": 37,
     "metadata": {},
     "output_type": "execute_result"
    }
   ],
   "source": [
    "@benchmark issquare.(n) setup=(n=rand_int128(100))"
   ]
  },
  {
   "cell_type": "code",
   "execution_count": 38,
   "metadata": {
    "ExecuteTime": {
     "end_time": "2020-09-08T22:25:10.761000+09:00",
     "start_time": "2020-09-08T13:24:21.658Z"
    }
   },
   "outputs": [
    {
     "data": {
      "text/plain": [
       "BenchmarkTools.Trial: \n",
       "  memory estimate:  128 bytes\n",
       "  allocs estimate:  2\n",
       "  --------------\n",
       "  minimum time:     1.438 μs (0.00% GC)\n",
       "  median time:      1.513 μs (0.00% GC)\n",
       "  mean time:        1.543 μs (1.12% GC)\n",
       "  maximum time:     173.869 μs (99.02% GC)\n",
       "  --------------\n",
       "  samples:          10000\n",
       "  evals/sample:     10"
      ]
     },
     "execution_count": 38,
     "metadata": {},
     "output_type": "execute_result"
    }
   ],
   "source": [
    "@benchmark Squareness.issquare_with_isqrt.(n) setup=(n=rand_int128(100))"
   ]
  },
  {
   "cell_type": "code",
   "execution_count": 39,
   "metadata": {
    "ExecuteTime": {
     "end_time": "2020-09-08T22:25:17.688000+09:00",
     "start_time": "2020-09-08T13:24:21.660Z"
    }
   },
   "outputs": [
    {
     "data": {
      "text/plain": [
       "BenchmarkTools.Trial: \n",
       "  memory estimate:  128 bytes\n",
       "  allocs estimate:  2\n",
       "  --------------\n",
       "  minimum time:     96.740 μs (0.00% GC)\n",
       "  median time:      127.650 μs (0.00% GC)\n",
       "  mean time:        129.819 μs (0.00% GC)\n",
       "  maximum time:     340.463 μs (0.00% GC)\n",
       "  --------------\n",
       "  samples:          10000\n",
       "  evals/sample:     1"
      ]
     },
     "execution_count": 39,
     "metadata": {},
     "output_type": "execute_result"
    }
   ],
   "source": [
    "@benchmark issquare_with_simple_newton.(n) setup=(n=rand_int128(100))"
   ]
  },
  {
   "cell_type": "markdown",
   "metadata": {},
   "source": [
    "#### `BigInt`"
   ]
  },
  {
   "cell_type": "code",
   "execution_count": 40,
   "metadata": {
    "ExecuteTime": {
     "end_time": "2020-09-08T22:25:17.755000+09:00",
     "start_time": "2020-09-08T13:24:21.662Z"
    }
   },
   "outputs": [
    {
     "data": {
      "text/plain": [
       "rand_mpz (generic function with 1 method)"
      ]
     },
     "execution_count": 40,
     "metadata": {},
     "output_type": "execute_result"
    }
   ],
   "source": [
    "rand_mpz() = (big(rand(UInt128)) << rand(0:128)) + rand(UInt128)"
   ]
  },
  {
   "cell_type": "code",
   "execution_count": 41,
   "metadata": {
    "ExecuteTime": {
     "end_time": "2020-09-08T22:25:28.710000+09:00",
     "start_time": "2020-09-08T13:24:21.663Z"
    }
   },
   "outputs": [
    {
     "data": {
      "text/plain": [
       "BenchmarkTools.Trial: \n",
       "  memory estimate:  0 bytes\n",
       "  allocs estimate:  0\n",
       "  --------------\n",
       "  minimum time:     7.201 ns (0.00% GC)\n",
       "  median time:      299.549 μs (1.29% GC)\n",
       "  mean time:        314.849 μs (2.93% GC)\n",
       "  maximum time:     703.159 μs (14.58% GC)\n",
       "  --------------\n",
       "  samples:          17\n",
       "  evals/sample:     999"
      ]
     },
     "execution_count": 41,
     "metadata": {},
     "output_type": "execute_result"
    }
   ],
   "source": [
    "# @benchmark issquare(n) setup=(n=rand_mpz())\n",
    "@benchmark Squareness.issquare_with_padic_newton(n) setup=(n=rand_mpz())"
   ]
  },
  {
   "cell_type": "code",
   "execution_count": 42,
   "metadata": {
    "ExecuteTime": {
     "end_time": "2020-09-08T22:25:31.616000+09:00",
     "start_time": "2020-09-08T13:24:21.665Z"
    }
   },
   "outputs": [
    {
     "data": {
      "text/plain": [
       "BenchmarkTools.Trial: \n",
       "  memory estimate:  88 bytes\n",
       "  allocs estimate:  5\n",
       "  --------------\n",
       "  minimum time:     135.587 ns (0.00% GC)\n",
       "  median time:      243.179 ns (0.00% GC)\n",
       "  mean time:        392.677 ns (20.70% GC)\n",
       "  maximum time:     180.977 μs (75.75% GC)\n",
       "  --------------\n",
       "  samples:          10000\n",
       "  evals/sample:     550"
      ]
     },
     "execution_count": 42,
     "metadata": {},
     "output_type": "execute_result"
    }
   ],
   "source": [
    "@benchmark Squareness.issquare_with_isqrt(n) setup=(n=rand_mpz())"
   ]
  },
  {
   "cell_type": "code",
   "execution_count": 43,
   "metadata": {
    "ExecuteTime": {
     "end_time": "2020-09-08T22:25:42.259000+09:00",
     "start_time": "2020-09-08T13:24:21.666Z"
    }
   },
   "outputs": [
    {
     "data": {
      "text/plain": [
       "BenchmarkTools.Trial: \n",
       "  memory estimate:  0 bytes\n",
       "  allocs estimate:  0\n",
       "  --------------\n",
       "  minimum time:     8.182 ns (0.00% GC)\n",
       "  median time:      18.831 μs (0.00% GC)\n",
       "  mean time:        27.694 μs (24.22% GC)\n",
       "  maximum time:     132.676 μs (56.30% GC)\n",
       "  --------------\n",
       "  samples:          181\n",
       "  evals/sample:     999"
      ]
     },
     "execution_count": 43,
     "metadata": {},
     "output_type": "execute_result"
    }
   ],
   "source": [
    "@benchmark issquare_with_simple_newton(n) setup=(n=rand_mpz())"
   ]
  },
  {
   "cell_type": "code",
   "execution_count": null,
   "metadata": {},
   "outputs": [],
   "source": []
  }
 ],
 "metadata": {
  "kernelspec": {
   "display_name": "Julia 1.5.1",
   "language": "julia",
   "name": "julia-1.5"
  },
  "language_info": {
   "file_extension": ".jl",
   "mimetype": "application/julia",
   "name": "julia",
   "version": "1.5.1"
  }
 },
 "nbformat": 4,
 "nbformat_minor": 2
}
