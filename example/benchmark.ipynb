{
 "cells": [
  {
   "cell_type": "code",
   "execution_count": 1,
   "metadata": {
    "ExecuteTime": {
     "end_time": "2020-09-06T17:28:42.101000+09:00",
     "start_time": "2020-09-06T08:28:40.601Z"
    }
   },
   "outputs": [
    {
     "name": "stdout",
     "output_type": "stream",
     "text": [
      "Julia Version 1.5.1\n",
      "Commit 697e782ab8 (2020-08-25 20:08 UTC)\n",
      "Platform Info:\n",
      "  OS: Linux (x86_64-pc-linux-gnu)\n",
      "  CPU: Intel(R) Core(TM) i7-9750H CPU @ 2.60GHz\n",
      "  WORD_SIZE: 64\n",
      "  LIBM: libopenlibm\n",
      "  LLVM: libLLVM-9.0.1 (ORCJIT, skylake)\n"
     ]
    }
   ],
   "source": [
    "versioninfo()"
   ]
  },
  {
   "cell_type": "code",
   "execution_count": 2,
   "metadata": {
    "ExecuteTime": {
     "end_time": "2020-09-06T17:28:46.097000+09:00",
     "start_time": "2020-09-06T08:28:40.602Z"
    }
   },
   "outputs": [],
   "source": [
    "]instantiate"
   ]
  },
  {
   "cell_type": "code",
   "execution_count": 3,
   "metadata": {
    "ExecuteTime": {
     "end_time": "2020-09-06T17:28:46.098000+09:00",
     "start_time": "2020-09-06T08:28:40.603Z"
    }
   },
   "outputs": [],
   "source": [
    "using Squareness"
   ]
  },
  {
   "cell_type": "markdown",
   "metadata": {},
   "source": [
    "## Simple Newton Method"
   ]
  },
  {
   "cell_type": "code",
   "execution_count": 4,
   "metadata": {
    "ExecuteTime": {
     "end_time": "2020-09-06T17:28:46.549000+09:00",
     "start_time": "2020-09-06T08:28:40.605Z"
    }
   },
   "outputs": [
    {
     "data": {
      "text/plain": [
       "issquare_with_simple_newton (generic function with 3 methods)"
      ]
     },
     "execution_count": 4,
     "metadata": {},
     "output_type": "execute_result"
    }
   ],
   "source": [
    "function _issquare_with_simple_newton(x::I) where {I <: Integer}\n",
    "    x == 0 && return true\n",
    "    xtz = trailing_zeros(x)\n",
    "    isodd(xtz) && return false\n",
    "    x >>= unsigned(xtz)\n",
    "    o_xrt::I = x\n",
    "    xrt::I = (x + 0x1) >> 0x1\n",
    "    xrt == 0 && return false  # overflow\n",
    "    while xrt < o_xrt\n",
    "        o_xrt = xrt\n",
    "        xrt = (xrt + x ÷ xrt) >> 0x1\n",
    "    end\n",
    "    xrt * xrt == x\n",
    "end\n",
    "\n",
    "issquare_with_simple_newton(x::Signed) = x < 0 ? false : _issquare_with_simple_newton(x % Unsigned)\n",
    "issquare_with_simple_newton(x::Unsigned) = _issquare_with_simple_newton(x)\n",
    "issquare_with_simple_newton(x::BigInt) = x < 0 ? false : _issquare_with_simple_newton(x)"
   ]
  },
  {
   "cell_type": "markdown",
   "metadata": {},
   "source": [
    "### Simple Check"
   ]
  },
  {
   "cell_type": "code",
   "execution_count": 5,
   "metadata": {
    "ExecuteTime": {
     "end_time": "2020-09-06T17:28:46.784000+09:00",
     "start_time": "2020-09-06T08:28:40.607Z"
    }
   },
   "outputs": [
    {
     "data": {
      "text/plain": [
       "true"
      ]
     },
     "execution_count": 5,
     "metadata": {},
     "output_type": "execute_result"
    }
   ],
   "source": [
    "all(issquare(x) == issquare_with_simple_newton(x) == Squareness.issquare_with_isqrt(x) for x in rand(Int, 10000))"
   ]
  },
  {
   "cell_type": "code",
   "execution_count": 6,
   "metadata": {
    "ExecuteTime": {
     "end_time": "2020-09-06T17:28:46.845000+09:00",
     "start_time": "2020-09-06T08:28:40.608Z"
    }
   },
   "outputs": [
    {
     "data": {
      "text/plain": [
       "true"
      ]
     },
     "execution_count": 6,
     "metadata": {},
     "output_type": "execute_result"
    }
   ],
   "source": [
    "all(issquare(x) == issquare_with_simple_newton(x) == Squareness.issquare_with_isqrt(x) for x in rand(Int32, 10000))"
   ]
  },
  {
   "cell_type": "markdown",
   "metadata": {
    "ExecuteTime": {
     "end_time": "2020-08-31T10:40:20+09:00",
     "start_time": "2020-08-31T01:40:17.960Z"
    }
   },
   "source": [
    "## Benchmark"
   ]
  },
  {
   "cell_type": "code",
   "execution_count": 7,
   "metadata": {
    "ExecuteTime": {
     "end_time": "2020-09-06T17:28:46.866000+09:00",
     "start_time": "2020-09-06T08:28:40.610Z"
    }
   },
   "outputs": [],
   "source": [
    "using BenchmarkTools"
   ]
  },
  {
   "cell_type": "markdown",
   "metadata": {},
   "source": [
    "### Compare `issquare()`(with P-adic Newton) vs `issquare_with_isqrt()` vs `issquare_with_simple_newton()`"
   ]
  },
  {
   "cell_type": "markdown",
   "metadata": {},
   "source": [
    "#### `Int64`"
   ]
  },
  {
   "cell_type": "code",
   "execution_count": 8,
   "metadata": {
    "ExecuteTime": {
     "end_time": "2020-09-06T17:28:46.934000+09:00",
     "start_time": "2020-09-06T08:28:40.612Z"
    }
   },
   "outputs": [
    {
     "data": {
      "text/plain": [
       "rand_int64 (generic function with 1 method)"
      ]
     },
     "execution_count": 8,
     "metadata": {},
     "output_type": "execute_result"
    }
   ],
   "source": [
    "rand_int64() = rand(Int64) & typemax(Int64)"
   ]
  },
  {
   "cell_type": "code",
   "execution_count": 9,
   "metadata": {
    "ExecuteTime": {
     "end_time": "2020-09-06T17:28:48.581000+09:00",
     "start_time": "2020-09-06T08:28:40.613Z"
    }
   },
   "outputs": [
    {
     "data": {
      "text/plain": [
       "BenchmarkTools.Trial: \n",
       "  memory estimate:  0 bytes\n",
       "  allocs estimate:  0\n",
       "  --------------\n",
       "  minimum time:     2.946 ns (0.00% GC)\n",
       "  median time:      5.236 ns (0.00% GC)\n",
       "  mean time:        4.796 ns (0.00% GC)\n",
       "  maximum time:     276.003 ns (0.00% GC)\n",
       "  --------------\n",
       "  samples:          10000\n",
       "  evals/sample:     1000"
      ]
     },
     "execution_count": 9,
     "metadata": {},
     "output_type": "execute_result"
    }
   ],
   "source": [
    "@benchmark issquare(n) setup=(n=rand_int64())"
   ]
  },
  {
   "cell_type": "code",
   "execution_count": 10,
   "metadata": {
    "ExecuteTime": {
     "end_time": "2020-09-06T17:28:49.255000+09:00",
     "start_time": "2020-09-06T08:28:40.615Z"
    }
   },
   "outputs": [
    {
     "data": {
      "text/plain": [
       "BenchmarkTools.Trial: \n",
       "  memory estimate:  0 bytes\n",
       "  allocs estimate:  0\n",
       "  --------------\n",
       "  minimum time:     12.608 ns (0.00% GC)\n",
       "  median time:      12.723 ns (0.00% GC)\n",
       "  mean time:        12.941 ns (0.00% GC)\n",
       "  maximum time:     58.036 ns (0.00% GC)\n",
       "  --------------\n",
       "  samples:          10000\n",
       "  evals/sample:     999"
      ]
     },
     "execution_count": 10,
     "metadata": {},
     "output_type": "execute_result"
    }
   ],
   "source": [
    "@benchmark Squareness.issquare_with_isqrt(n) setup=(n=rand_int64())"
   ]
  },
  {
   "cell_type": "code",
   "execution_count": 11,
   "metadata": {
    "ExecuteTime": {
     "end_time": "2020-09-06T17:28:52.195000+09:00",
     "start_time": "2020-09-06T08:28:40.616Z"
    }
   },
   "outputs": [
    {
     "data": {
      "text/plain": [
       "BenchmarkTools.Trial: \n",
       "  memory estimate:  0 bytes\n",
       "  allocs estimate:  0\n",
       "  --------------\n",
       "  minimum time:     2.402 ns (0.00% GC)\n",
       "  median time:      330.067 ns (0.00% GC)\n",
       "  mean time:        230.434 ns (0.00% GC)\n",
       "  maximum time:     627.928 ns (0.00% GC)\n",
       "  --------------\n",
       "  samples:          10000\n",
       "  evals/sample:     1000"
      ]
     },
     "execution_count": 11,
     "metadata": {},
     "output_type": "execute_result"
    }
   ],
   "source": [
    "@benchmark issquare_with_simple_newton(n) setup=(n=rand_int64())"
   ]
  },
  {
   "cell_type": "markdown",
   "metadata": {},
   "source": [
    "#### `Int64` × 100"
   ]
  },
  {
   "cell_type": "code",
   "execution_count": 12,
   "metadata": {
    "ExecuteTime": {
     "end_time": "2020-09-06T17:28:52.196000+09:00",
     "start_time": "2020-09-06T08:28:40.619Z"
    }
   },
   "outputs": [
    {
     "data": {
      "text/plain": [
       "rand_int64 (generic function with 2 methods)"
      ]
     },
     "execution_count": 12,
     "metadata": {},
     "output_type": "execute_result"
    }
   ],
   "source": [
    "rand_int64(N) = rand(Int64, N) .& typemax(Int64)"
   ]
  },
  {
   "cell_type": "code",
   "execution_count": 13,
   "metadata": {
    "ExecuteTime": {
     "end_time": "2020-09-06T17:28:54.361000+09:00",
     "start_time": "2020-09-06T08:28:40.620Z"
    }
   },
   "outputs": [
    {
     "data": {
      "text/plain": [
       "BenchmarkTools.Trial: \n",
       "  memory estimate:  128 bytes\n",
       "  allocs estimate:  2\n",
       "  --------------\n",
       "  minimum time:     495.487 ns (0.00% GC)\n",
       "  median time:      587.832 ns (0.00% GC)\n",
       "  mean time:        610.786 ns (1.18% GC)\n",
       "  maximum time:     15.970 μs (96.39% GC)\n",
       "  --------------\n",
       "  samples:          10000\n",
       "  evals/sample:     193"
      ]
     },
     "execution_count": 13,
     "metadata": {},
     "output_type": "execute_result"
    }
   ],
   "source": [
    "@benchmark issquare.(n) setup=(n=rand_int64(100))"
   ]
  },
  {
   "cell_type": "code",
   "execution_count": 14,
   "metadata": {
    "ExecuteTime": {
     "end_time": "2020-09-06T17:28:55.943000+09:00",
     "start_time": "2020-09-06T08:28:40.623Z"
    }
   },
   "outputs": [
    {
     "data": {
      "text/plain": [
       "BenchmarkTools.Trial: \n",
       "  memory estimate:  128 bytes\n",
       "  allocs estimate:  2\n",
       "  --------------\n",
       "  minimum time:     1.452 μs (0.00% GC)\n",
       "  median time:      1.536 μs (0.00% GC)\n",
       "  mean time:        1.589 μs (0.00% GC)\n",
       "  maximum time:     6.178 μs (0.00% GC)\n",
       "  --------------\n",
       "  samples:          10000\n",
       "  evals/sample:     10"
      ]
     },
     "execution_count": 14,
     "metadata": {},
     "output_type": "execute_result"
    }
   ],
   "source": [
    "@benchmark Squareness.issquare_with_isqrt.(n) setup=(n=rand_int64(100))"
   ]
  },
  {
   "cell_type": "code",
   "execution_count": 15,
   "metadata": {
    "ExecuteTime": {
     "end_time": "2020-09-06T17:29:01.811000+09:00",
     "start_time": "2020-09-06T08:28:40.624Z"
    }
   },
   "outputs": [
    {
     "data": {
      "text/plain": [
       "BenchmarkTools.Trial: \n",
       "  memory estimate:  128 bytes\n",
       "  allocs estimate:  2\n",
       "  --------------\n",
       "  minimum time:     16.471 μs (0.00% GC)\n",
       "  median time:      23.184 μs (0.00% GC)\n",
       "  mean time:        23.704 μs (0.00% GC)\n",
       "  maximum time:     83.584 μs (0.00% GC)\n",
       "  --------------\n",
       "  samples:          10000\n",
       "  evals/sample:     1"
      ]
     },
     "execution_count": 15,
     "metadata": {},
     "output_type": "execute_result"
    }
   ],
   "source": [
    "@benchmark issquare_with_simple_newton.(n) setup=(n=rand_int64(100))"
   ]
  },
  {
   "cell_type": "markdown",
   "metadata": {},
   "source": [
    "#### `Int32`"
   ]
  },
  {
   "cell_type": "code",
   "execution_count": 16,
   "metadata": {
    "ExecuteTime": {
     "end_time": "2020-09-06T17:29:01.880000+09:00",
     "start_time": "2020-09-06T08:28:40.626Z"
    }
   },
   "outputs": [
    {
     "data": {
      "text/plain": [
       "rand_int32 (generic function with 1 method)"
      ]
     },
     "execution_count": 16,
     "metadata": {},
     "output_type": "execute_result"
    }
   ],
   "source": [
    "rand_int32() = rand(Int32) & typemax(Int32)"
   ]
  },
  {
   "cell_type": "code",
   "execution_count": 17,
   "metadata": {
    "ExecuteTime": {
     "end_time": "2020-09-06T17:29:02.468000+09:00",
     "start_time": "2020-09-06T08:28:40.627Z"
    }
   },
   "outputs": [
    {
     "data": {
      "text/plain": [
       "BenchmarkTools.Trial: \n",
       "  memory estimate:  0 bytes\n",
       "  allocs estimate:  0\n",
       "  --------------\n",
       "  minimum time:     2.653 ns (0.00% GC)\n",
       "  median time:      4.302 ns (0.00% GC)\n",
       "  mean time:        3.833 ns (0.00% GC)\n",
       "  maximum time:     37.422 ns (0.00% GC)\n",
       "  --------------\n",
       "  samples:          10000\n",
       "  evals/sample:     1000"
      ]
     },
     "execution_count": 17,
     "metadata": {},
     "output_type": "execute_result"
    }
   ],
   "source": [
    "@benchmark issquare(n) setup=(n=rand_int32())"
   ]
  },
  {
   "cell_type": "code",
   "execution_count": 18,
   "metadata": {
    "ExecuteTime": {
     "end_time": "2020-09-06T17:29:03.094000+09:00",
     "start_time": "2020-09-06T08:28:40.629Z"
    }
   },
   "outputs": [
    {
     "data": {
      "text/plain": [
       "BenchmarkTools.Trial: \n",
       "  memory estimate:  0 bytes\n",
       "  allocs estimate:  0\n",
       "  --------------\n",
       "  minimum time:     7.528 ns (0.00% GC)\n",
       "  median time:      7.635 ns (0.00% GC)\n",
       "  mean time:        7.776 ns (0.00% GC)\n",
       "  maximum time:     40.907 ns (0.00% GC)\n",
       "  --------------\n",
       "  samples:          10000\n",
       "  evals/sample:     999"
      ]
     },
     "execution_count": 18,
     "metadata": {},
     "output_type": "execute_result"
    }
   ],
   "source": [
    "@benchmark Squareness.issquare_with_isqrt(n) setup=(n=rand_int32())"
   ]
  },
  {
   "cell_type": "code",
   "execution_count": 19,
   "metadata": {
    "ExecuteTime": {
     "end_time": "2020-09-06T17:29:04.453000+09:00",
     "start_time": "2020-09-06T08:28:40.630Z"
    }
   },
   "outputs": [
    {
     "data": {
      "text/plain": [
       "BenchmarkTools.Trial: \n",
       "  memory estimate:  0 bytes\n",
       "  allocs estimate:  0\n",
       "  --------------\n",
       "  minimum time:     3.120 ns (0.00% GC)\n",
       "  median time:      103.523 ns (0.00% GC)\n",
       "  mean time:        74.506 ns (0.00% GC)\n",
       "  maximum time:     236.730 ns (0.00% GC)\n",
       "  --------------\n",
       "  samples:          10000\n",
       "  evals/sample:     1000"
      ]
     },
     "execution_count": 19,
     "metadata": {},
     "output_type": "execute_result"
    }
   ],
   "source": [
    "@benchmark issquare_with_simple_newton(n) setup=(n=rand_int32())"
   ]
  },
  {
   "cell_type": "markdown",
   "metadata": {},
   "source": [
    "#### `Int32` × 100"
   ]
  },
  {
   "cell_type": "code",
   "execution_count": 20,
   "metadata": {
    "ExecuteTime": {
     "end_time": "2020-09-06T17:29:04.454000+09:00",
     "start_time": "2020-09-06T08:28:40.631Z"
    }
   },
   "outputs": [
    {
     "data": {
      "text/plain": [
       "rand_int32 (generic function with 2 methods)"
      ]
     },
     "execution_count": 20,
     "metadata": {},
     "output_type": "execute_result"
    }
   ],
   "source": [
    "rand_int32(N) = rand(Int32, N) .& typemax(Int32)"
   ]
  },
  {
   "cell_type": "code",
   "execution_count": 21,
   "metadata": {
    "ExecuteTime": {
     "end_time": "2020-09-06T17:29:06.428000+09:00",
     "start_time": "2020-09-06T08:28:40.633Z"
    }
   },
   "outputs": [
    {
     "data": {
      "text/plain": [
       "BenchmarkTools.Trial: \n",
       "  memory estimate:  128 bytes\n",
       "  allocs estimate:  2\n",
       "  --------------\n",
       "  minimum time:     424.685 ns (0.00% GC)\n",
       "  median time:      516.629 ns (0.00% GC)\n",
       "  mean time:        540.323 ns (1.35% GC)\n",
       "  maximum time:     15.378 μs (96.61% GC)\n",
       "  --------------\n",
       "  samples:          10000\n",
       "  evals/sample:     197"
      ]
     },
     "execution_count": 21,
     "metadata": {},
     "output_type": "execute_result"
    }
   ],
   "source": [
    "@benchmark issquare.(n) setup=(n=rand_int32(100))"
   ]
  },
  {
   "cell_type": "code",
   "execution_count": 22,
   "metadata": {
    "ExecuteTime": {
     "end_time": "2020-09-06T17:29:08.161000+09:00",
     "start_time": "2020-09-06T08:28:40.634Z"
    }
   },
   "outputs": [
    {
     "data": {
      "text/plain": [
       "BenchmarkTools.Trial: \n",
       "  memory estimate:  128 bytes\n",
       "  allocs estimate:  2\n",
       "  --------------\n",
       "  minimum time:     392.687 ns (0.00% GC)\n",
       "  median time:      417.348 ns (0.00% GC)\n",
       "  mean time:        431.163 ns (1.69% GC)\n",
       "  maximum time:     15.481 μs (97.27% GC)\n",
       "  --------------\n",
       "  samples:          10000\n",
       "  evals/sample:     201"
      ]
     },
     "execution_count": 22,
     "metadata": {},
     "output_type": "execute_result"
    }
   ],
   "source": [
    "@benchmark Squareness.issquare_with_isqrt.(n) setup=(n=rand_int32(100))"
   ]
  },
  {
   "cell_type": "code",
   "execution_count": 23,
   "metadata": {
    "ExecuteTime": {
     "end_time": "2020-09-06T17:29:13.135000+09:00",
     "start_time": "2020-09-06T08:28:40.636Z"
    }
   },
   "outputs": [
    {
     "data": {
      "text/plain": [
       "BenchmarkTools.Trial: \n",
       "  memory estimate:  128 bytes\n",
       "  allocs estimate:  2\n",
       "  --------------\n",
       "  minimum time:     5.753 μs (0.00% GC)\n",
       "  median time:      8.066 μs (0.00% GC)\n",
       "  mean time:        8.212 μs (0.00% GC)\n",
       "  maximum time:     21.695 μs (0.00% GC)\n",
       "  --------------\n",
       "  samples:          10000\n",
       "  evals/sample:     6"
      ]
     },
     "execution_count": 23,
     "metadata": {},
     "output_type": "execute_result"
    }
   ],
   "source": [
    "@benchmark issquare_with_simple_newton.(n) setup=(n=rand_int32(100))"
   ]
  },
  {
   "cell_type": "markdown",
   "metadata": {},
   "source": [
    "#### `Int16`"
   ]
  },
  {
   "cell_type": "code",
   "execution_count": 24,
   "metadata": {
    "ExecuteTime": {
     "end_time": "2020-09-06T17:29:13.200000+09:00",
     "start_time": "2020-09-06T08:28:40.637Z"
    }
   },
   "outputs": [
    {
     "data": {
      "text/plain": [
       "rand_int16 (generic function with 1 method)"
      ]
     },
     "execution_count": 24,
     "metadata": {},
     "output_type": "execute_result"
    }
   ],
   "source": [
    "rand_int16() = rand(Int16) & typemax(Int16)"
   ]
  },
  {
   "cell_type": "code",
   "execution_count": 25,
   "metadata": {
    "ExecuteTime": {
     "end_time": "2020-09-06T17:29:13.832000+09:00",
     "start_time": "2020-09-06T08:28:40.639Z"
    }
   },
   "outputs": [
    {
     "data": {
      "text/plain": [
       "BenchmarkTools.Trial: \n",
       "  memory estimate:  0 bytes\n",
       "  allocs estimate:  0\n",
       "  --------------\n",
       "  minimum time:     2.876 ns (0.00% GC)\n",
       "  median time:      9.583 ns (0.00% GC)\n",
       "  mean time:        7.569 ns (0.00% GC)\n",
       "  maximum time:     54.919 ns (0.00% GC)\n",
       "  --------------\n",
       "  samples:          10000\n",
       "  evals/sample:     1000"
      ]
     },
     "execution_count": 25,
     "metadata": {},
     "output_type": "execute_result"
    }
   ],
   "source": [
    "@benchmark issquare(n) setup=(n=rand_int16())"
   ]
  },
  {
   "cell_type": "code",
   "execution_count": 26,
   "metadata": {
    "ExecuteTime": {
     "end_time": "2020-09-06T17:29:14.569000+09:00",
     "start_time": "2020-09-06T08:28:40.642Z"
    }
   },
   "outputs": [
    {
     "data": {
      "text/plain": [
       "BenchmarkTools.Trial: \n",
       "  memory estimate:  0 bytes\n",
       "  allocs estimate:  0\n",
       "  --------------\n",
       "  minimum time:     6.624 ns (0.00% GC)\n",
       "  median time:      7.876 ns (0.00% GC)\n",
       "  mean time:        8.085 ns (0.00% GC)\n",
       "  maximum time:     28.365 ns (0.00% GC)\n",
       "  --------------\n",
       "  samples:          10000\n",
       "  evals/sample:     999"
      ]
     },
     "execution_count": 26,
     "metadata": {},
     "output_type": "execute_result"
    }
   ],
   "source": [
    "@benchmark Squareness.issquare_with_isqrt(n) setup=(n=rand_int16())"
   ]
  },
  {
   "cell_type": "code",
   "execution_count": 27,
   "metadata": {
    "ExecuteTime": {
     "end_time": "2020-09-06T17:29:15.645000+09:00",
     "start_time": "2020-09-06T08:28:40.644Z"
    }
   },
   "outputs": [
    {
     "data": {
      "text/plain": [
       "BenchmarkTools.Trial: \n",
       "  memory estimate:  0 bytes\n",
       "  allocs estimate:  0\n",
       "  --------------\n",
       "  minimum time:     2.713 ns (0.00% GC)\n",
       "  median time:      54.332 ns (0.00% GC)\n",
       "  mean time:        41.261 ns (0.00% GC)\n",
       "  maximum time:     143.355 ns (0.00% GC)\n",
       "  --------------\n",
       "  samples:          10000\n",
       "  evals/sample:     1000"
      ]
     },
     "execution_count": 27,
     "metadata": {},
     "output_type": "execute_result"
    }
   ],
   "source": [
    "@benchmark issquare_with_simple_newton(n) setup=(n=rand_int16())"
   ]
  },
  {
   "cell_type": "markdown",
   "metadata": {},
   "source": [
    "#### `Int16` × 100"
   ]
  },
  {
   "cell_type": "code",
   "execution_count": 28,
   "metadata": {
    "ExecuteTime": {
     "end_time": "2020-09-06T17:29:15.646000+09:00",
     "start_time": "2020-09-06T08:28:40.646Z"
    }
   },
   "outputs": [
    {
     "data": {
      "text/plain": [
       "rand_int16 (generic function with 2 methods)"
      ]
     },
     "execution_count": 28,
     "metadata": {},
     "output_type": "execute_result"
    }
   ],
   "source": [
    "rand_int16(N) = rand(Int16, N) .& typemax(Int16)"
   ]
  },
  {
   "cell_type": "code",
   "execution_count": 29,
   "metadata": {
    "ExecuteTime": {
     "end_time": "2020-09-06T17:29:17.764000+09:00",
     "start_time": "2020-09-06T08:28:40.647Z"
    }
   },
   "outputs": [
    {
     "data": {
      "text/plain": [
       "BenchmarkTools.Trial: \n",
       "  memory estimate:  128 bytes\n",
       "  allocs estimate:  2\n",
       "  --------------\n",
       "  minimum time:     405.844 ns (0.00% GC)\n",
       "  median time:      493.882 ns (0.00% GC)\n",
       "  mean time:        531.313 ns (1.65% GC)\n",
       "  maximum time:     20.764 μs (96.89% GC)\n",
       "  --------------\n",
       "  samples:          10000\n",
       "  evals/sample:     199"
      ]
     },
     "execution_count": 29,
     "metadata": {},
     "output_type": "execute_result"
    }
   ],
   "source": [
    "@benchmark issquare.(n) setup=(n=rand_int16(100))"
   ]
  },
  {
   "cell_type": "code",
   "execution_count": 30,
   "metadata": {
    "ExecuteTime": {
     "end_time": "2020-09-06T17:29:19.779000+09:00",
     "start_time": "2020-09-06T08:28:40.648Z"
    }
   },
   "outputs": [
    {
     "data": {
      "text/plain": [
       "BenchmarkTools.Trial: \n",
       "  memory estimate:  128 bytes\n",
       "  allocs estimate:  2\n",
       "  --------------\n",
       "  minimum time:     410.350 ns (0.00% GC)\n",
       "  median time:      445.535 ns (0.00% GC)\n",
       "  mean time:        498.712 ns (2.11% GC)\n",
       "  maximum time:     33.145 μs (97.66% GC)\n",
       "  --------------\n",
       "  samples:          10000\n",
       "  evals/sample:     200"
      ]
     },
     "execution_count": 30,
     "metadata": {},
     "output_type": "execute_result"
    }
   ],
   "source": [
    "@benchmark Squareness.issquare_with_isqrt.(n) setup=(n=rand_int16(100))"
   ]
  },
  {
   "cell_type": "code",
   "execution_count": 31,
   "metadata": {
    "ExecuteTime": {
     "end_time": "2020-09-06T17:29:22.455000+09:00",
     "start_time": "2020-09-06T08:28:40.650Z"
    }
   },
   "outputs": [
    {
     "data": {
      "text/plain": [
       "BenchmarkTools.Trial: \n",
       "  memory estimate:  128 bytes\n",
       "  allocs estimate:  2\n",
       "  --------------\n",
       "  minimum time:     2.550 μs (0.00% GC)\n",
       "  median time:      3.461 μs (0.00% GC)\n",
       "  mean time:        3.555 μs (0.00% GC)\n",
       "  maximum time:     10.481 μs (0.00% GC)\n",
       "  --------------\n",
       "  samples:          10000\n",
       "  evals/sample:     9"
      ]
     },
     "execution_count": 31,
     "metadata": {},
     "output_type": "execute_result"
    }
   ],
   "source": [
    "@benchmark issquare_with_simple_newton.(n) setup=(n=rand_int16(100))"
   ]
  },
  {
   "cell_type": "markdown",
   "metadata": {},
   "source": [
    "#### `Int128`"
   ]
  },
  {
   "cell_type": "code",
   "execution_count": 32,
   "metadata": {
    "ExecuteTime": {
     "end_time": "2020-09-06T17:29:22.525000+09:00",
     "start_time": "2020-09-06T08:28:40.652Z"
    }
   },
   "outputs": [
    {
     "data": {
      "text/plain": [
       "rand_int128 (generic function with 1 method)"
      ]
     },
     "execution_count": 32,
     "metadata": {},
     "output_type": "execute_result"
    }
   ],
   "source": [
    "rand_int128() = rand(Int128) & typemax(Int128)"
   ]
  },
  {
   "cell_type": "code",
   "execution_count": 33,
   "metadata": {
    "ExecuteTime": {
     "end_time": "2020-09-06T17:29:23.359000+09:00",
     "start_time": "2020-09-06T08:28:40.653Z"
    }
   },
   "outputs": [
    {
     "data": {
      "text/plain": [
       "BenchmarkTools.Trial: \n",
       "  memory estimate:  0 bytes\n",
       "  allocs estimate:  0\n",
       "  --------------\n",
       "  minimum time:     2.710 ns (0.00% GC)\n",
       "  median time:      26.044 ns (0.00% GC)\n",
       "  mean time:        18.837 ns (0.00% GC)\n",
       "  maximum time:     73.259 ns (0.00% GC)\n",
       "  --------------\n",
       "  samples:          10000\n",
       "  evals/sample:     1000"
      ]
     },
     "execution_count": 33,
     "metadata": {},
     "output_type": "execute_result"
    }
   ],
   "source": [
    "@benchmark issquare(n) setup=(n=rand_int128())"
   ]
  },
  {
   "cell_type": "code",
   "execution_count": 34,
   "metadata": {
    "ExecuteTime": {
     "end_time": "2020-09-06T17:29:24.441000+09:00",
     "start_time": "2020-09-06T08:28:40.654Z"
    }
   },
   "outputs": [
    {
     "data": {
      "text/plain": [
       "BenchmarkTools.Trial: \n",
       "  memory estimate:  0 bytes\n",
       "  allocs estimate:  0\n",
       "  --------------\n",
       "  minimum time:     45.116 ns (0.00% GC)\n",
       "  median time:      45.558 ns (0.00% GC)\n",
       "  mean time:        46.289 ns (0.00% GC)\n",
       "  maximum time:     116.919 ns (0.00% GC)\n",
       "  --------------\n",
       "  samples:          10000\n",
       "  evals/sample:     989"
      ]
     },
     "execution_count": 34,
     "metadata": {},
     "output_type": "execute_result"
    }
   ],
   "source": [
    "@benchmark Squareness.issquare_with_isqrt(n) setup=(n=rand_int128())"
   ]
  },
  {
   "cell_type": "code",
   "execution_count": 35,
   "metadata": {
    "ExecuteTime": {
     "end_time": "2020-09-06T17:29:30.643000+09:00",
     "start_time": "2020-09-06T08:28:40.656Z"
    }
   },
   "outputs": [
    {
     "data": {
      "text/plain": [
       "BenchmarkTools.Trial: \n",
       "  memory estimate:  0 bytes\n",
       "  allocs estimate:  0\n",
       "  --------------\n",
       "  minimum time:     3.121 ns (0.00% GC)\n",
       "  median time:      1.842 μs (0.00% GC)\n",
       "  mean time:        1.264 μs (0.00% GC)\n",
       "  maximum time:     2.501 μs (0.00% GC)\n",
       "  --------------\n",
       "  samples:          3957\n",
       "  evals/sample:     1000"
      ]
     },
     "execution_count": 35,
     "metadata": {},
     "output_type": "execute_result"
    }
   ],
   "source": [
    "@benchmark issquare_with_simple_newton(n) setup=(n=rand_int128())"
   ]
  },
  {
   "cell_type": "markdown",
   "metadata": {},
   "source": [
    "#### `Int128` × 100"
   ]
  },
  {
   "cell_type": "code",
   "execution_count": 36,
   "metadata": {
    "ExecuteTime": {
     "end_time": "2020-09-06T17:29:30.645000+09:00",
     "start_time": "2020-09-06T08:28:40.658Z"
    }
   },
   "outputs": [
    {
     "data": {
      "text/plain": [
       "rand_int128 (generic function with 2 methods)"
      ]
     },
     "execution_count": 36,
     "metadata": {},
     "output_type": "execute_result"
    }
   ],
   "source": [
    "rand_int128(N) = rand(Int128, N) .& typemax(Int128)"
   ]
  },
  {
   "cell_type": "code",
   "execution_count": 37,
   "metadata": {
    "ExecuteTime": {
     "end_time": "2020-09-06T17:29:32.569000+09:00",
     "start_time": "2020-09-06T08:28:40.659Z"
    }
   },
   "outputs": [
    {
     "data": {
      "text/plain": [
       "BenchmarkTools.Trial: \n",
       "  memory estimate:  128 bytes\n",
       "  allocs estimate:  2\n",
       "  --------------\n",
       "  minimum time:     1.524 μs (0.00% GC)\n",
       "  median time:      1.977 μs (0.00% GC)\n",
       "  mean time:        2.036 μs (0.83% GC)\n",
       "  maximum time:     170.484 μs (98.67% GC)\n",
       "  --------------\n",
       "  samples:          10000\n",
       "  evals/sample:     10"
      ]
     },
     "execution_count": 37,
     "metadata": {},
     "output_type": "execute_result"
    }
   ],
   "source": [
    "@benchmark issquare.(n) setup=(n=rand_int128(100))"
   ]
  },
  {
   "cell_type": "code",
   "execution_count": 38,
   "metadata": {
    "ExecuteTime": {
     "end_time": "2020-09-06T17:29:35.945000+09:00",
     "start_time": "2020-09-06T08:28:40.661Z"
    }
   },
   "outputs": [
    {
     "data": {
      "text/plain": [
       "BenchmarkTools.Trial: \n",
       "  memory estimate:  128 bytes\n",
       "  allocs estimate:  2\n",
       "  --------------\n",
       "  minimum time:     4.557 μs (0.00% GC)\n",
       "  median time:      4.618 μs (0.00% GC)\n",
       "  mean time:        4.762 μs (0.00% GC)\n",
       "  maximum time:     13.873 μs (0.00% GC)\n",
       "  --------------\n",
       "  samples:          10000\n",
       "  evals/sample:     7"
      ]
     },
     "execution_count": 38,
     "metadata": {},
     "output_type": "execute_result"
    }
   ],
   "source": [
    "@benchmark Squareness.issquare_with_isqrt.(n) setup=(n=rand_int128(100))"
   ]
  },
  {
   "cell_type": "code",
   "execution_count": 39,
   "metadata": {
    "ExecuteTime": {
     "end_time": "2020-09-06T17:29:42.919000+09:00",
     "start_time": "2020-09-06T08:28:40.662Z"
    }
   },
   "outputs": [
    {
     "data": {
      "text/plain": [
       "BenchmarkTools.Trial: \n",
       "  memory estimate:  128 bytes\n",
       "  allocs estimate:  2\n",
       "  --------------\n",
       "  minimum time:     90.002 μs (0.00% GC)\n",
       "  median time:      129.335 μs (0.00% GC)\n",
       "  mean time:        131.035 μs (0.00% GC)\n",
       "  maximum time:     320.768 μs (0.00% GC)\n",
       "  --------------\n",
       "  samples:          10000\n",
       "  evals/sample:     1"
      ]
     },
     "execution_count": 39,
     "metadata": {},
     "output_type": "execute_result"
    }
   ],
   "source": [
    "@benchmark issquare_with_simple_newton.(n) setup=(n=rand_int128(100))"
   ]
  },
  {
   "cell_type": "markdown",
   "metadata": {},
   "source": [
    "#### `BigInt`"
   ]
  },
  {
   "cell_type": "code",
   "execution_count": 40,
   "metadata": {
    "ExecuteTime": {
     "end_time": "2020-09-06T17:29:42.991000+09:00",
     "start_time": "2020-09-06T08:28:40.665Z"
    }
   },
   "outputs": [
    {
     "data": {
      "text/plain": [
       "rand_mpz (generic function with 1 method)"
      ]
     },
     "execution_count": 40,
     "metadata": {},
     "output_type": "execute_result"
    }
   ],
   "source": [
    "rand_mpz() = (big(rand(UInt128)) << rand(0:128)) + rand(UInt128)"
   ]
  },
  {
   "cell_type": "code",
   "execution_count": 41,
   "metadata": {
    "ExecuteTime": {
     "end_time": "2020-09-06T17:29:53.815000+09:00",
     "start_time": "2020-09-06T08:28:40.666Z"
    }
   },
   "outputs": [
    {
     "data": {
      "text/plain": [
       "BenchmarkTools.Trial: \n",
       "  memory estimate:  0 bytes\n",
       "  allocs estimate:  0\n",
       "  --------------\n",
       "  minimum time:     7.180 ns (0.00% GC)\n",
       "  median time:      300.697 μs (1.26% GC)\n",
       "  mean time:        262.128 μs (3.04% GC)\n",
       "  maximum time:     567.948 μs (1.24% GC)\n",
       "  --------------\n",
       "  samples:          20\n",
       "  evals/sample:     999"
      ]
     },
     "execution_count": 41,
     "metadata": {},
     "output_type": "execute_result"
    }
   ],
   "source": [
    "# @benchmark issquare(n) setup=(n=rand_mpz())\n",
    "@benchmark Squareness.issquare_with_padic_newton(n) setup=(n=rand_mpz())"
   ]
  },
  {
   "cell_type": "code",
   "execution_count": 42,
   "metadata": {
    "ExecuteTime": {
     "end_time": "2020-09-06T17:29:57.901000+09:00",
     "start_time": "2020-09-06T08:28:40.668Z"
    }
   },
   "outputs": [
    {
     "data": {
      "text/plain": [
       "BenchmarkTools.Trial: \n",
       "  memory estimate:  88 bytes\n",
       "  allocs estimate:  5\n",
       "  --------------\n",
       "  minimum time:     133.171 ns (0.00% GC)\n",
       "  median time:      234.856 ns (0.00% GC)\n",
       "  mean time:        384.628 ns (20.68% GC)\n",
       "  maximum time:     123.977 μs (76.68% GC)\n",
       "  --------------\n",
       "  samples:          10000\n",
       "  evals/sample:     864"
      ]
     },
     "execution_count": 42,
     "metadata": {},
     "output_type": "execute_result"
    }
   ],
   "source": [
    "@benchmark Squareness.issquare_with_isqrt(n) setup=(n=rand_mpz())"
   ]
  },
  {
   "cell_type": "code",
   "execution_count": 43,
   "metadata": {
    "ExecuteTime": {
     "end_time": "2020-09-06T17:30:08.518000+09:00",
     "start_time": "2020-09-06T08:28:40.669Z"
    }
   },
   "outputs": [
    {
     "data": {
      "text/plain": [
       "BenchmarkTools.Trial: \n",
       "  memory estimate:  0 bytes\n",
       "  allocs estimate:  0\n",
       "  --------------\n",
       "  minimum time:     8.371 ns (0.00% GC)\n",
       "  median time:      21.862 μs (0.00% GC)\n",
       "  mean time:        30.818 μs (24.43% GC)\n",
       "  maximum time:     135.672 μs (56.86% GC)\n",
       "  --------------\n",
       "  samples:          163\n",
       "  evals/sample:     999"
      ]
     },
     "execution_count": 43,
     "metadata": {},
     "output_type": "execute_result"
    }
   ],
   "source": [
    "@benchmark issquare_with_simple_newton(n) setup=(n=rand_mpz())"
   ]
  },
  {
   "cell_type": "code",
   "execution_count": null,
   "metadata": {},
   "outputs": [],
   "source": []
  }
 ],
 "metadata": {
  "kernelspec": {
   "display_name": "Julia 1.5.1",
   "language": "julia",
   "name": "julia-1.5"
  },
  "language_info": {
   "file_extension": ".jl",
   "mimetype": "application/julia",
   "name": "julia",
   "version": "1.5.1"
  }
 },
 "nbformat": 4,
 "nbformat_minor": 2
}
