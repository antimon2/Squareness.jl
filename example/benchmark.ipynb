{
 "cells": [
  {
   "cell_type": "code",
   "execution_count": 1,
   "metadata": {
    "ExecuteTime": {
     "end_time": "2020-09-08T19:10:35.078000+09:00",
     "start_time": "2020-09-08T10:10:33.487Z"
    }
   },
   "outputs": [
    {
     "name": "stdout",
     "output_type": "stream",
     "text": [
      "Julia Version 1.5.1\n",
      "Commit 697e782ab8 (2020-08-25 20:08 UTC)\n",
      "Platform Info:\n",
      "  OS: Linux (x86_64-pc-linux-gnu)\n",
      "  CPU: Intel(R) Core(TM) i7-9750H CPU @ 2.60GHz\n",
      "  WORD_SIZE: 64\n",
      "  LIBM: libopenlibm\n",
      "  LLVM: libLLVM-9.0.1 (ORCJIT, skylake)\n"
     ]
    }
   ],
   "source": [
    "versioninfo()"
   ]
  },
  {
   "cell_type": "code",
   "execution_count": null,
   "metadata": {
    "ExecuteTime": {
     "end_time": "2020-09-06T17:39:38.845000+09:00",
     "start_time": "2020-09-06T08:39:38.451Z"
    }
   },
   "outputs": [],
   "source": [
    "]activate ."
   ]
  },
  {
   "cell_type": "code",
   "execution_count": 2,
   "metadata": {
    "ExecuteTime": {
     "end_time": "2020-09-08T19:10:46.579000+09:00",
     "start_time": "2020-09-08T10:10:42.534Z"
    }
   },
   "outputs": [],
   "source": [
    "]instantiate"
   ]
  },
  {
   "cell_type": "code",
   "execution_count": 3,
   "metadata": {
    "ExecuteTime": {
     "end_time": "2020-09-08T19:10:46.581000+09:00",
     "start_time": "2020-09-08T10:10:42.535Z"
    }
   },
   "outputs": [],
   "source": [
    "using Squareness"
   ]
  },
  {
   "cell_type": "markdown",
   "metadata": {},
   "source": [
    "## Simple Newton Method"
   ]
  },
  {
   "cell_type": "code",
   "execution_count": 4,
   "metadata": {
    "ExecuteTime": {
     "end_time": "2020-09-08T19:10:47.064000+09:00",
     "start_time": "2020-09-08T10:10:42.537Z"
    }
   },
   "outputs": [
    {
     "data": {
      "text/plain": [
       "issquare_with_simple_newton (generic function with 3 methods)"
      ]
     },
     "execution_count": 4,
     "metadata": {},
     "output_type": "execute_result"
    }
   ],
   "source": [
    "function _issquare_with_simple_newton(x::I) where {I <: Integer}\n",
    "    x == 0 && return true\n",
    "    xtz = trailing_zeros(x)\n",
    "    isodd(xtz) && return false\n",
    "    x >>= unsigned(xtz)\n",
    "    o_xrt::I = x\n",
    "    xrt::I = (x + 0x1) >> 0x1\n",
    "    xrt == 0 && return false  # overflow\n",
    "    while xrt < o_xrt\n",
    "        o_xrt = xrt\n",
    "        xrt = (xrt + x ÷ xrt) >> 0x1\n",
    "    end\n",
    "    xrt * xrt == x\n",
    "end\n",
    "\n",
    "issquare_with_simple_newton(x::Signed) = x < 0 ? false : _issquare_with_simple_newton(x % Unsigned)\n",
    "issquare_with_simple_newton(x::Unsigned) = _issquare_with_simple_newton(x)\n",
    "issquare_with_simple_newton(x::BigInt) = x < 0 ? false : _issquare_with_simple_newton(x)"
   ]
  },
  {
   "cell_type": "markdown",
   "metadata": {},
   "source": [
    "### Simple Check"
   ]
  },
  {
   "cell_type": "code",
   "execution_count": 5,
   "metadata": {
    "ExecuteTime": {
     "end_time": "2020-09-08T19:10:47.303000+09:00",
     "start_time": "2020-09-08T10:10:42.540Z"
    }
   },
   "outputs": [
    {
     "data": {
      "text/plain": [
       "true"
      ]
     },
     "execution_count": 5,
     "metadata": {},
     "output_type": "execute_result"
    }
   ],
   "source": [
    "all(issquare(x) == issquare_with_simple_newton(x) == Squareness.issquare_with_isqrt(x) for x in rand(Int, 10000))"
   ]
  },
  {
   "cell_type": "code",
   "execution_count": 6,
   "metadata": {
    "ExecuteTime": {
     "end_time": "2020-09-08T19:10:47.366000+09:00",
     "start_time": "2020-09-08T10:10:42.541Z"
    }
   },
   "outputs": [
    {
     "data": {
      "text/plain": [
       "true"
      ]
     },
     "execution_count": 6,
     "metadata": {},
     "output_type": "execute_result"
    }
   ],
   "source": [
    "all(issquare(x) == issquare_with_simple_newton(x) == Squareness.issquare_with_isqrt(x) for x in rand(Int32, 10000))"
   ]
  },
  {
   "cell_type": "markdown",
   "metadata": {
    "ExecuteTime": {
     "end_time": "2020-08-31T10:40:20+09:00",
     "start_time": "2020-08-31T01:40:17.960Z"
    }
   },
   "source": [
    "## Benchmark"
   ]
  },
  {
   "cell_type": "code",
   "execution_count": 7,
   "metadata": {
    "ExecuteTime": {
     "end_time": "2020-09-08T19:10:47.386000+09:00",
     "start_time": "2020-09-08T10:10:42.543Z"
    }
   },
   "outputs": [],
   "source": [
    "using BenchmarkTools"
   ]
  },
  {
   "cell_type": "markdown",
   "metadata": {},
   "source": [
    "### Compare `issquare()`(with P-adic Newton) vs `issquare_with_isqrt()` vs `issquare_with_simple_newton()`"
   ]
  },
  {
   "cell_type": "markdown",
   "metadata": {},
   "source": [
    "#### `Int64`"
   ]
  },
  {
   "cell_type": "code",
   "execution_count": 8,
   "metadata": {
    "ExecuteTime": {
     "end_time": "2020-09-08T19:10:47.456000+09:00",
     "start_time": "2020-09-08T10:10:42.545Z"
    }
   },
   "outputs": [
    {
     "data": {
      "text/plain": [
       "rand_int64 (generic function with 1 method)"
      ]
     },
     "execution_count": 8,
     "metadata": {},
     "output_type": "execute_result"
    }
   ],
   "source": [
    "rand_int64() = rand(Int64) & typemax(Int64)"
   ]
  },
  {
   "cell_type": "code",
   "execution_count": 9,
   "metadata": {
    "ExecuteTime": {
     "end_time": "2020-09-08T19:10:49.091000+09:00",
     "start_time": "2020-09-08T10:10:42.547Z"
    }
   },
   "outputs": [
    {
     "data": {
      "text/plain": [
       "BenchmarkTools.Trial: \n",
       "  memory estimate:  0 bytes\n",
       "  allocs estimate:  0\n",
       "  --------------\n",
       "  minimum time:     2.707 ns (0.00% GC)\n",
       "  median time:      5.233 ns (0.00% GC)\n",
       "  mean time:        4.847 ns (0.00% GC)\n",
       "  maximum time:     38.426 ns (0.00% GC)\n",
       "  --------------\n",
       "  samples:          10000\n",
       "  evals/sample:     1000"
      ]
     },
     "execution_count": 9,
     "metadata": {},
     "output_type": "execute_result"
    }
   ],
   "source": [
    "@benchmark issquare(n) setup=(n=rand_int64())"
   ]
  },
  {
   "cell_type": "code",
   "execution_count": 10,
   "metadata": {
    "ExecuteTime": {
     "end_time": "2020-09-08T19:10:49.716000+09:00",
     "start_time": "2020-09-08T10:10:42.548Z"
    }
   },
   "outputs": [
    {
     "data": {
      "text/plain": [
       "BenchmarkTools.Trial: \n",
       "  memory estimate:  0 bytes\n",
       "  allocs estimate:  0\n",
       "  --------------\n",
       "  minimum time:     7.654 ns (0.00% GC)\n",
       "  median time:      7.673 ns (0.00% GC)\n",
       "  mean time:        7.752 ns (0.00% GC)\n",
       "  maximum time:     40.545 ns (0.00% GC)\n",
       "  --------------\n",
       "  samples:          10000\n",
       "  evals/sample:     999"
      ]
     },
     "execution_count": 10,
     "metadata": {},
     "output_type": "execute_result"
    }
   ],
   "source": [
    "@benchmark Squareness.issquare_with_isqrt(n) setup=(n=rand_int64())"
   ]
  },
  {
   "cell_type": "code",
   "execution_count": 11,
   "metadata": {
    "ExecuteTime": {
     "end_time": "2020-09-08T19:10:52.677000+09:00",
     "start_time": "2020-09-08T10:10:42.550Z"
    }
   },
   "outputs": [
    {
     "data": {
      "text/plain": [
       "BenchmarkTools.Trial: \n",
       "  memory estimate:  0 bytes\n",
       "  allocs estimate:  0\n",
       "  --------------\n",
       "  minimum time:     2.645 ns (0.00% GC)\n",
       "  median time:      326.547 ns (0.00% GC)\n",
       "  mean time:        231.232 ns (0.00% GC)\n",
       "  maximum time:     591.443 ns (0.00% GC)\n",
       "  --------------\n",
       "  samples:          10000\n",
       "  evals/sample:     1000"
      ]
     },
     "execution_count": 11,
     "metadata": {},
     "output_type": "execute_result"
    }
   ],
   "source": [
    "@benchmark issquare_with_simple_newton(n) setup=(n=rand_int64())"
   ]
  },
  {
   "cell_type": "markdown",
   "metadata": {},
   "source": [
    "#### `Int64` × 100"
   ]
  },
  {
   "cell_type": "code",
   "execution_count": 12,
   "metadata": {
    "ExecuteTime": {
     "end_time": "2020-09-08T19:10:52.678000+09:00",
     "start_time": "2020-09-08T10:10:42.552Z"
    }
   },
   "outputs": [
    {
     "data": {
      "text/plain": [
       "rand_int64 (generic function with 2 methods)"
      ]
     },
     "execution_count": 12,
     "metadata": {},
     "output_type": "execute_result"
    }
   ],
   "source": [
    "rand_int64(N) = rand(Int64, N) .& typemax(Int64)"
   ]
  },
  {
   "cell_type": "code",
   "execution_count": 13,
   "metadata": {
    "ExecuteTime": {
     "end_time": "2020-09-08T19:10:54.836000+09:00",
     "start_time": "2020-09-08T10:10:42.553Z"
    }
   },
   "outputs": [
    {
     "data": {
      "text/plain": [
       "BenchmarkTools.Trial: \n",
       "  memory estimate:  128 bytes\n",
       "  allocs estimate:  2\n",
       "  --------------\n",
       "  minimum time:     483.741 ns (0.00% GC)\n",
       "  median time:      593.013 ns (0.00% GC)\n",
       "  mean time:        616.227 ns (1.23% GC)\n",
       "  maximum time:     16.795 μs (95.84% GC)\n",
       "  --------------\n",
       "  samples:          10000\n",
       "  evals/sample:     193"
      ]
     },
     "execution_count": 13,
     "metadata": {},
     "output_type": "execute_result"
    }
   ],
   "source": [
    "@benchmark issquare.(n) setup=(n=rand_int64(100))"
   ]
  },
  {
   "cell_type": "code",
   "execution_count": 14,
   "metadata": {
    "ExecuteTime": {
     "end_time": "2020-09-08T19:10:56.482000+09:00",
     "start_time": "2020-09-08T10:10:42.555Z"
    }
   },
   "outputs": [
    {
     "data": {
      "text/plain": [
       "BenchmarkTools.Trial: \n",
       "  memory estimate:  128 bytes\n",
       "  allocs estimate:  2\n",
       "  --------------\n",
       "  minimum time:     359.348 ns (0.00% GC)\n",
       "  median time:      374.696 ns (0.00% GC)\n",
       "  mean time:        396.102 ns (2.22% GC)\n",
       "  maximum time:     17.237 μs (97.72% GC)\n",
       "  --------------\n",
       "  samples:          10000\n",
       "  evals/sample:     207"
      ]
     },
     "execution_count": 14,
     "metadata": {},
     "output_type": "execute_result"
    }
   ],
   "source": [
    "@benchmark Squareness.issquare_with_isqrt.(n) setup=(n=rand_int64(100))"
   ]
  },
  {
   "cell_type": "code",
   "execution_count": 15,
   "metadata": {
    "ExecuteTime": {
     "end_time": "2020-09-08T19:11:02.375000+09:00",
     "start_time": "2020-09-08T10:10:42.556Z"
    }
   },
   "outputs": [
    {
     "data": {
      "text/plain": [
       "BenchmarkTools.Trial: \n",
       "  memory estimate:  128 bytes\n",
       "  allocs estimate:  2\n",
       "  --------------\n",
       "  minimum time:     18.370 μs (0.00% GC)\n",
       "  median time:      25.505 μs (0.00% GC)\n",
       "  mean time:        25.590 μs (0.00% GC)\n",
       "  maximum time:     50.502 μs (0.00% GC)\n",
       "  --------------\n",
       "  samples:          10000\n",
       "  evals/sample:     1"
      ]
     },
     "execution_count": 15,
     "metadata": {},
     "output_type": "execute_result"
    }
   ],
   "source": [
    "@benchmark issquare_with_simple_newton.(n) setup=(n=rand_int64(100))"
   ]
  },
  {
   "cell_type": "markdown",
   "metadata": {},
   "source": [
    "#### `Int32`"
   ]
  },
  {
   "cell_type": "code",
   "execution_count": 16,
   "metadata": {
    "ExecuteTime": {
     "end_time": "2020-09-08T19:11:02.453000+09:00",
     "start_time": "2020-09-08T10:10:42.558Z"
    }
   },
   "outputs": [
    {
     "data": {
      "text/plain": [
       "rand_int32 (generic function with 1 method)"
      ]
     },
     "execution_count": 16,
     "metadata": {},
     "output_type": "execute_result"
    }
   ],
   "source": [
    "rand_int32() = rand(Int32) & typemax(Int32)"
   ]
  },
  {
   "cell_type": "code",
   "execution_count": 17,
   "metadata": {
    "ExecuteTime": {
     "end_time": "2020-09-08T19:11:03.092000+09:00",
     "start_time": "2020-09-08T10:10:42.560Z"
    }
   },
   "outputs": [
    {
     "data": {
      "text/plain": [
       "BenchmarkTools.Trial: \n",
       "  memory estimate:  0 bytes\n",
       "  allocs estimate:  0\n",
       "  --------------\n",
       "  minimum time:     2.715 ns (0.00% GC)\n",
       "  median time:      4.312 ns (0.00% GC)\n",
       "  mean time:        4.195 ns (0.00% GC)\n",
       "  maximum time:     35.114 ns (0.00% GC)\n",
       "  --------------\n",
       "  samples:          10000\n",
       "  evals/sample:     1000"
      ]
     },
     "execution_count": 17,
     "metadata": {},
     "output_type": "execute_result"
    }
   ],
   "source": [
    "@benchmark issquare(n) setup=(n=rand_int32())"
   ]
  },
  {
   "cell_type": "code",
   "execution_count": 18,
   "metadata": {
    "ExecuteTime": {
     "end_time": "2020-09-08T19:11:03.745000+09:00",
     "start_time": "2020-09-08T10:10:42.561Z"
    }
   },
   "outputs": [
    {
     "data": {
      "text/plain": [
       "BenchmarkTools.Trial: \n",
       "  memory estimate:  0 bytes\n",
       "  allocs estimate:  0\n",
       "  --------------\n",
       "  minimum time:     7.934 ns (0.00% GC)\n",
       "  median time:      8.258 ns (0.00% GC)\n",
       "  mean time:        8.374 ns (0.00% GC)\n",
       "  maximum time:     32.832 ns (0.00% GC)\n",
       "  --------------\n",
       "  samples:          10000\n",
       "  evals/sample:     999"
      ]
     },
     "execution_count": 18,
     "metadata": {},
     "output_type": "execute_result"
    }
   ],
   "source": [
    "@benchmark Squareness.issquare_with_isqrt(n) setup=(n=rand_int32())"
   ]
  },
  {
   "cell_type": "code",
   "execution_count": 19,
   "metadata": {
    "ExecuteTime": {
     "end_time": "2020-09-08T19:11:05.250000+09:00",
     "start_time": "2020-09-08T10:10:42.562Z"
    }
   },
   "outputs": [
    {
     "data": {
      "text/plain": [
       "BenchmarkTools.Trial: \n",
       "  memory estimate:  0 bytes\n",
       "  allocs estimate:  0\n",
       "  --------------\n",
       "  minimum time:     2.469 ns (0.00% GC)\n",
       "  median time:      122.975 ns (0.00% GC)\n",
       "  mean time:        86.933 ns (0.00% GC)\n",
       "  maximum time:     198.754 ns (0.00% GC)\n",
       "  --------------\n",
       "  samples:          10000\n",
       "  evals/sample:     1000"
      ]
     },
     "execution_count": 19,
     "metadata": {},
     "output_type": "execute_result"
    }
   ],
   "source": [
    "@benchmark issquare_with_simple_newton(n) setup=(n=rand_int32())"
   ]
  },
  {
   "cell_type": "markdown",
   "metadata": {},
   "source": [
    "#### `Int32` × 100"
   ]
  },
  {
   "cell_type": "code",
   "execution_count": 20,
   "metadata": {
    "ExecuteTime": {
     "end_time": "2020-09-08T19:11:05.251000+09:00",
     "start_time": "2020-09-08T10:10:42.564Z"
    }
   },
   "outputs": [
    {
     "data": {
      "text/plain": [
       "rand_int32 (generic function with 2 methods)"
      ]
     },
     "execution_count": 20,
     "metadata": {},
     "output_type": "execute_result"
    }
   ],
   "source": [
    "rand_int32(N) = rand(Int32, N) .& typemax(Int32)"
   ]
  },
  {
   "cell_type": "code",
   "execution_count": 21,
   "metadata": {
    "ExecuteTime": {
     "end_time": "2020-09-08T19:11:07.388000+09:00",
     "start_time": "2020-09-08T10:10:42.565Z"
    }
   },
   "outputs": [
    {
     "data": {
      "text/plain": [
       "BenchmarkTools.Trial: \n",
       "  memory estimate:  128 bytes\n",
       "  allocs estimate:  2\n",
       "  --------------\n",
       "  minimum time:     449.474 ns (0.00% GC)\n",
       "  median time:      532.982 ns (0.00% GC)\n",
       "  mean time:        561.447 ns (1.41% GC)\n",
       "  maximum time:     17.276 μs (95.99% GC)\n",
       "  --------------\n",
       "  samples:          10000\n",
       "  evals/sample:     196"
      ]
     },
     "execution_count": 21,
     "metadata": {},
     "output_type": "execute_result"
    }
   ],
   "source": [
    "@benchmark issquare.(n) setup=(n=rand_int32(100))"
   ]
  },
  {
   "cell_type": "code",
   "execution_count": 22,
   "metadata": {
    "ExecuteTime": {
     "end_time": "2020-09-08T19:11:09.150000+09:00",
     "start_time": "2020-09-08T10:10:42.567Z"
    }
   },
   "outputs": [
    {
     "data": {
      "text/plain": [
       "BenchmarkTools.Trial: \n",
       "  memory estimate:  128 bytes\n",
       "  allocs estimate:  2\n",
       "  --------------\n",
       "  minimum time:     401.626 ns (0.00% GC)\n",
       "  median time:      429.286 ns (0.00% GC)\n",
       "  mean time:        449.911 ns (1.99% GC)\n",
       "  maximum time:     23.725 μs (97.50% GC)\n",
       "  --------------\n",
       "  samples:          10000\n",
       "  evals/sample:     203"
      ]
     },
     "execution_count": 22,
     "metadata": {},
     "output_type": "execute_result"
    }
   ],
   "source": [
    "@benchmark Squareness.issquare_with_isqrt.(n) setup=(n=rand_int32(100))"
   ]
  },
  {
   "cell_type": "code",
   "execution_count": 23,
   "metadata": {
    "ExecuteTime": {
     "end_time": "2020-09-08T19:11:14.214000+09:00",
     "start_time": "2020-09-08T10:10:42.568Z"
    }
   },
   "outputs": [
    {
     "data": {
      "text/plain": [
       "BenchmarkTools.Trial: \n",
       "  memory estimate:  128 bytes\n",
       "  allocs estimate:  2\n",
       "  --------------\n",
       "  minimum time:     5.872 μs (0.00% GC)\n",
       "  median time:      8.090 μs (0.00% GC)\n",
       "  mean time:        8.263 μs (0.00% GC)\n",
       "  maximum time:     25.306 μs (0.00% GC)\n",
       "  --------------\n",
       "  samples:          10000\n",
       "  evals/sample:     6"
      ]
     },
     "execution_count": 23,
     "metadata": {},
     "output_type": "execute_result"
    }
   ],
   "source": [
    "@benchmark issquare_with_simple_newton.(n) setup=(n=rand_int32(100))"
   ]
  },
  {
   "cell_type": "markdown",
   "metadata": {},
   "source": [
    "#### `Int16`"
   ]
  },
  {
   "cell_type": "code",
   "execution_count": 24,
   "metadata": {
    "ExecuteTime": {
     "end_time": "2020-09-08T19:11:14.284000+09:00",
     "start_time": "2020-09-08T10:10:42.570Z"
    }
   },
   "outputs": [
    {
     "data": {
      "text/plain": [
       "rand_int16 (generic function with 1 method)"
      ]
     },
     "execution_count": 24,
     "metadata": {},
     "output_type": "execute_result"
    }
   ],
   "source": [
    "rand_int16() = rand(Int16) & typemax(Int16)"
   ]
  },
  {
   "cell_type": "code",
   "execution_count": 25,
   "metadata": {
    "ExecuteTime": {
     "end_time": "2020-09-08T19:11:14.930000+09:00",
     "start_time": "2020-09-08T10:10:42.572Z"
    }
   },
   "outputs": [
    {
     "data": {
      "text/plain": [
       "BenchmarkTools.Trial: \n",
       "  memory estimate:  0 bytes\n",
       "  allocs estimate:  0\n",
       "  --------------\n",
       "  minimum time:     2.710 ns (0.00% GC)\n",
       "  median time:      9.817 ns (0.00% GC)\n",
       "  mean time:        7.643 ns (0.00% GC)\n",
       "  maximum time:     44.694 ns (0.00% GC)\n",
       "  --------------\n",
       "  samples:          10000\n",
       "  evals/sample:     1000"
      ]
     },
     "execution_count": 25,
     "metadata": {},
     "output_type": "execute_result"
    }
   ],
   "source": [
    "@benchmark issquare(n) setup=(n=rand_int16())"
   ]
  },
  {
   "cell_type": "code",
   "execution_count": 26,
   "metadata": {
    "ExecuteTime": {
     "end_time": "2020-09-08T19:11:15.572000+09:00",
     "start_time": "2020-09-08T10:10:42.574Z"
    }
   },
   "outputs": [
    {
     "data": {
      "text/plain": [
       "BenchmarkTools.Trial: \n",
       "  memory estimate:  0 bytes\n",
       "  allocs estimate:  0\n",
       "  --------------\n",
       "  minimum time:     6.377 ns (0.00% GC)\n",
       "  median time:      7.644 ns (0.00% GC)\n",
       "  mean time:        7.884 ns (0.00% GC)\n",
       "  maximum time:     47.369 ns (0.00% GC)\n",
       "  --------------\n",
       "  samples:          10000\n",
       "  evals/sample:     999"
      ]
     },
     "execution_count": 26,
     "metadata": {},
     "output_type": "execute_result"
    }
   ],
   "source": [
    "@benchmark Squareness.issquare_with_isqrt(n) setup=(n=rand_int16())"
   ]
  },
  {
   "cell_type": "code",
   "execution_count": 27,
   "metadata": {
    "ExecuteTime": {
     "end_time": "2020-09-08T19:11:16.535000+09:00",
     "start_time": "2020-09-08T10:10:42.575Z"
    }
   },
   "outputs": [
    {
     "data": {
      "text/plain": [
       "BenchmarkTools.Trial: \n",
       "  memory estimate:  0 bytes\n",
       "  allocs estimate:  0\n",
       "  --------------\n",
       "  minimum time:     2.710 ns (0.00% GC)\n",
       "  median time:      54.104 ns (0.00% GC)\n",
       "  mean time:        39.707 ns (0.00% GC)\n",
       "  maximum time:     180.570 ns (0.00% GC)\n",
       "  --------------\n",
       "  samples:          10000\n",
       "  evals/sample:     1000"
      ]
     },
     "execution_count": 27,
     "metadata": {},
     "output_type": "execute_result"
    }
   ],
   "source": [
    "@benchmark issquare_with_simple_newton(n) setup=(n=rand_int16())"
   ]
  },
  {
   "cell_type": "markdown",
   "metadata": {},
   "source": [
    "#### `Int16` × 100"
   ]
  },
  {
   "cell_type": "code",
   "execution_count": 28,
   "metadata": {
    "ExecuteTime": {
     "end_time": "2020-09-08T19:11:16.536000+09:00",
     "start_time": "2020-09-08T10:10:42.577Z"
    }
   },
   "outputs": [
    {
     "data": {
      "text/plain": [
       "rand_int16 (generic function with 2 methods)"
      ]
     },
     "execution_count": 28,
     "metadata": {},
     "output_type": "execute_result"
    }
   ],
   "source": [
    "rand_int16(N) = rand(Int16, N) .& typemax(Int16)"
   ]
  },
  {
   "cell_type": "code",
   "execution_count": 29,
   "metadata": {
    "ExecuteTime": {
     "end_time": "2020-09-08T19:11:18.449000+09:00",
     "start_time": "2020-09-08T10:10:42.579Z"
    }
   },
   "outputs": [
    {
     "data": {
      "text/plain": [
       "BenchmarkTools.Trial: \n",
       "  memory estimate:  128 bytes\n",
       "  allocs estimate:  2\n",
       "  --------------\n",
       "  minimum time:     388.495 ns (0.00% GC)\n",
       "  median time:      468.947 ns (0.00% GC)\n",
       "  mean time:        488.022 ns (1.68% GC)\n",
       "  maximum time:     18.304 μs (97.25% GC)\n",
       "  --------------\n",
       "  samples:          10000\n",
       "  evals/sample:     200"
      ]
     },
     "execution_count": 29,
     "metadata": {},
     "output_type": "execute_result"
    }
   ],
   "source": [
    "@benchmark issquare.(n) setup=(n=rand_int16(100))"
   ]
  },
  {
   "cell_type": "code",
   "execution_count": 30,
   "metadata": {
    "ExecuteTime": {
     "end_time": "2020-09-08T19:11:20.232000+09:00",
     "start_time": "2020-09-08T10:10:42.580Z"
    }
   },
   "outputs": [
    {
     "data": {
      "text/plain": [
       "BenchmarkTools.Trial: \n",
       "  memory estimate:  128 bytes\n",
       "  allocs estimate:  2\n",
       "  --------------\n",
       "  minimum time:     399.634 ns (0.00% GC)\n",
       "  median time:      432.106 ns (0.00% GC)\n",
       "  mean time:        449.524 ns (1.82% GC)\n",
       "  maximum time:     17.340 μs (97.41% GC)\n",
       "  --------------\n",
       "  samples:          10000\n",
       "  evals/sample:     202"
      ]
     },
     "execution_count": 30,
     "metadata": {},
     "output_type": "execute_result"
    }
   ],
   "source": [
    "@benchmark Squareness.issquare_with_isqrt.(n) setup=(n=rand_int16(100))"
   ]
  },
  {
   "cell_type": "code",
   "execution_count": 31,
   "metadata": {
    "ExecuteTime": {
     "end_time": "2020-09-08T19:11:22.794000+09:00",
     "start_time": "2020-09-08T10:10:42.582Z"
    }
   },
   "outputs": [
    {
     "data": {
      "text/plain": [
       "BenchmarkTools.Trial: \n",
       "  memory estimate:  128 bytes\n",
       "  allocs estimate:  2\n",
       "  --------------\n",
       "  minimum time:     2.554 μs (0.00% GC)\n",
       "  median time:      3.472 μs (0.00% GC)\n",
       "  mean time:        3.575 μs (0.00% GC)\n",
       "  maximum time:     12.040 μs (0.00% GC)\n",
       "  --------------\n",
       "  samples:          10000\n",
       "  evals/sample:     9"
      ]
     },
     "execution_count": 31,
     "metadata": {},
     "output_type": "execute_result"
    }
   ],
   "source": [
    "@benchmark issquare_with_simple_newton.(n) setup=(n=rand_int16(100))"
   ]
  },
  {
   "cell_type": "markdown",
   "metadata": {},
   "source": [
    "#### `Int128`"
   ]
  },
  {
   "cell_type": "code",
   "execution_count": 32,
   "metadata": {
    "ExecuteTime": {
     "end_time": "2020-09-08T19:11:22.866000+09:00",
     "start_time": "2020-09-08T10:10:42.584Z"
    }
   },
   "outputs": [
    {
     "data": {
      "text/plain": [
       "rand_int128 (generic function with 1 method)"
      ]
     },
     "execution_count": 32,
     "metadata": {},
     "output_type": "execute_result"
    }
   ],
   "source": [
    "rand_int128() = rand(Int128) & typemax(Int128)"
   ]
  },
  {
   "cell_type": "code",
   "execution_count": 33,
   "metadata": {
    "ExecuteTime": {
     "end_time": "2020-09-08T19:11:23.654000+09:00",
     "start_time": "2020-09-08T10:10:42.585Z"
    }
   },
   "outputs": [
    {
     "data": {
      "text/plain": [
       "BenchmarkTools.Trial: \n",
       "  memory estimate:  0 bytes\n",
       "  allocs estimate:  0\n",
       "  --------------\n",
       "  minimum time:     2.953 ns (0.00% GC)\n",
       "  median time:      25.470 ns (0.00% GC)\n",
       "  mean time:        18.249 ns (0.00% GC)\n",
       "  maximum time:     83.659 ns (0.00% GC)\n",
       "  --------------\n",
       "  samples:          10000\n",
       "  evals/sample:     1000"
      ]
     },
     "execution_count": 33,
     "metadata": {},
     "output_type": "execute_result"
    }
   ],
   "source": [
    "@benchmark issquare(n) setup=(n=rand_int128())"
   ]
  },
  {
   "cell_type": "code",
   "execution_count": 34,
   "metadata": {
    "ExecuteTime": {
     "end_time": "2020-09-08T19:11:24.382000+09:00",
     "start_time": "2020-09-08T10:10:42.587Z"
    }
   },
   "outputs": [
    {
     "data": {
      "text/plain": [
       "BenchmarkTools.Trial: \n",
       "  memory estimate:  0 bytes\n",
       "  allocs estimate:  0\n",
       "  --------------\n",
       "  minimum time:     12.737 ns (0.00% GC)\n",
       "  median time:      13.652 ns (0.00% GC)\n",
       "  mean time:        13.770 ns (0.00% GC)\n",
       "  maximum time:     51.483 ns (0.00% GC)\n",
       "  --------------\n",
       "  samples:          10000\n",
       "  evals/sample:     998"
      ]
     },
     "execution_count": 34,
     "metadata": {},
     "output_type": "execute_result"
    }
   ],
   "source": [
    "@benchmark Squareness.issquare_with_isqrt(n) setup=(n=rand_int128())"
   ]
  },
  {
   "cell_type": "code",
   "execution_count": 35,
   "metadata": {
    "ExecuteTime": {
     "end_time": "2020-09-08T19:11:30.561000+09:00",
     "start_time": "2020-09-08T10:10:42.588Z"
    }
   },
   "outputs": [
    {
     "data": {
      "text/plain": [
       "BenchmarkTools.Trial: \n",
       "  memory estimate:  0 bytes\n",
       "  allocs estimate:  0\n",
       "  --------------\n",
       "  minimum time:     2.883 ns (0.00% GC)\n",
       "  median time:      1.844 μs (0.00% GC)\n",
       "  mean time:        1.240 μs (0.00% GC)\n",
       "  maximum time:     2.569 μs (0.00% GC)\n",
       "  --------------\n",
       "  samples:          4032\n",
       "  evals/sample:     1000"
      ]
     },
     "execution_count": 35,
     "metadata": {},
     "output_type": "execute_result"
    }
   ],
   "source": [
    "@benchmark issquare_with_simple_newton(n) setup=(n=rand_int128())"
   ]
  },
  {
   "cell_type": "markdown",
   "metadata": {},
   "source": [
    "#### `Int128` × 100"
   ]
  },
  {
   "cell_type": "code",
   "execution_count": 36,
   "metadata": {
    "ExecuteTime": {
     "end_time": "2020-09-08T19:11:30.562000+09:00",
     "start_time": "2020-09-08T10:10:42.590Z"
    }
   },
   "outputs": [
    {
     "data": {
      "text/plain": [
       "rand_int128 (generic function with 2 methods)"
      ]
     },
     "execution_count": 36,
     "metadata": {},
     "output_type": "execute_result"
    }
   ],
   "source": [
    "rand_int128(N) = rand(Int128, N) .& typemax(Int128)"
   ]
  },
  {
   "cell_type": "code",
   "execution_count": 37,
   "metadata": {
    "ExecuteTime": {
     "end_time": "2020-09-08T19:11:32.450000+09:00",
     "start_time": "2020-09-08T10:10:42.591Z"
    }
   },
   "outputs": [
    {
     "data": {
      "text/plain": [
       "BenchmarkTools.Trial: \n",
       "  memory estimate:  128 bytes\n",
       "  allocs estimate:  2\n",
       "  --------------\n",
       "  minimum time:     1.547 μs (0.00% GC)\n",
       "  median time:      2.007 μs (0.00% GC)\n",
       "  mean time:        2.039 μs (0.83% GC)\n",
       "  maximum time:     170.647 μs (98.65% GC)\n",
       "  --------------\n",
       "  samples:          10000\n",
       "  evals/sample:     10"
      ]
     },
     "execution_count": 37,
     "metadata": {},
     "output_type": "execute_result"
    }
   ],
   "source": [
    "@benchmark issquare.(n) setup=(n=rand_int128(100))"
   ]
  },
  {
   "cell_type": "code",
   "execution_count": 38,
   "metadata": {
    "ExecuteTime": {
     "end_time": "2020-09-08T19:11:34.058000+09:00",
     "start_time": "2020-09-08T10:10:42.593Z"
    }
   },
   "outputs": [
    {
     "data": {
      "text/plain": [
       "BenchmarkTools.Trial: \n",
       "  memory estimate:  128 bytes\n",
       "  allocs estimate:  2\n",
       "  --------------\n",
       "  minimum time:     1.441 μs (0.00% GC)\n",
       "  median time:      1.546 μs (0.00% GC)\n",
       "  mean time:        1.614 μs (1.28% GC)\n",
       "  maximum time:     208.554 μs (98.75% GC)\n",
       "  --------------\n",
       "  samples:          10000\n",
       "  evals/sample:     10"
      ]
     },
     "execution_count": 38,
     "metadata": {},
     "output_type": "execute_result"
    }
   ],
   "source": [
    "@benchmark Squareness.issquare_with_isqrt.(n) setup=(n=rand_int128(100))"
   ]
  },
  {
   "cell_type": "code",
   "execution_count": 39,
   "metadata": {
    "ExecuteTime": {
     "end_time": "2020-09-08T19:11:41.014000+09:00",
     "start_time": "2020-09-08T10:10:42.594Z"
    }
   },
   "outputs": [
    {
     "data": {
      "text/plain": [
       "BenchmarkTools.Trial: \n",
       "  memory estimate:  128 bytes\n",
       "  allocs estimate:  2\n",
       "  --------------\n",
       "  minimum time:     95.538 μs (0.00% GC)\n",
       "  median time:      129.065 μs (0.00% GC)\n",
       "  mean time:        130.734 μs (0.00% GC)\n",
       "  maximum time:     301.311 μs (0.00% GC)\n",
       "  --------------\n",
       "  samples:          10000\n",
       "  evals/sample:     1"
      ]
     },
     "execution_count": 39,
     "metadata": {},
     "output_type": "execute_result"
    }
   ],
   "source": [
    "@benchmark issquare_with_simple_newton.(n) setup=(n=rand_int128(100))"
   ]
  },
  {
   "cell_type": "markdown",
   "metadata": {},
   "source": [
    "#### `BigInt`"
   ]
  },
  {
   "cell_type": "code",
   "execution_count": 40,
   "metadata": {
    "ExecuteTime": {
     "end_time": "2020-09-08T19:11:41.088000+09:00",
     "start_time": "2020-09-08T10:10:42.596Z"
    }
   },
   "outputs": [
    {
     "data": {
      "text/plain": [
       "rand_mpz (generic function with 1 method)"
      ]
     },
     "execution_count": 40,
     "metadata": {},
     "output_type": "execute_result"
    }
   ],
   "source": [
    "rand_mpz() = (big(rand(UInt128)) << rand(0:128)) + rand(UInt128)"
   ]
  },
  {
   "cell_type": "code",
   "execution_count": 41,
   "metadata": {
    "ExecuteTime": {
     "end_time": "2020-09-08T19:11:51.789000+09:00",
     "start_time": "2020-09-08T10:10:42.597Z"
    }
   },
   "outputs": [
    {
     "data": {
      "text/plain": [
       "BenchmarkTools.Trial: \n",
       "  memory estimate:  0 bytes\n",
       "  allocs estimate:  0\n",
       "  --------------\n",
       "  minimum time:     7.611 ns (0.00% GC)\n",
       "  median time:      304.205 μs (1.48% GC)\n",
       "  mean time:        315.324 μs (3.17% GC)\n",
       "  maximum time:     619.947 μs (1.41% GC)\n",
       "  --------------\n",
       "  samples:          16\n",
       "  evals/sample:     999"
      ]
     },
     "execution_count": 41,
     "metadata": {},
     "output_type": "execute_result"
    }
   ],
   "source": [
    "# @benchmark issquare(n) setup=(n=rand_mpz())\n",
    "@benchmark Squareness.issquare_with_padic_newton(n) setup=(n=rand_mpz())"
   ]
  },
  {
   "cell_type": "code",
   "execution_count": 42,
   "metadata": {
    "ExecuteTime": {
     "end_time": "2020-09-08T19:11:55.975000+09:00",
     "start_time": "2020-09-08T10:10:42.599Z"
    }
   },
   "outputs": [
    {
     "data": {
      "text/plain": [
       "BenchmarkTools.Trial: \n",
       "  memory estimate:  88 bytes\n",
       "  allocs estimate:  5\n",
       "  --------------\n",
       "  minimum time:     136.506 ns (0.00% GC)\n",
       "  median time:      253.256 ns (0.00% GC)\n",
       "  mean time:        394.322 ns (19.49% GC)\n",
       "  maximum time:     119.505 μs (75.92% GC)\n",
       "  --------------\n",
       "  samples:          10000\n",
       "  evals/sample:     858"
      ]
     },
     "execution_count": 42,
     "metadata": {},
     "output_type": "execute_result"
    }
   ],
   "source": [
    "@benchmark Squareness.issquare_with_isqrt(n) setup=(n=rand_mpz())"
   ]
  },
  {
   "cell_type": "code",
   "execution_count": 43,
   "metadata": {
    "ExecuteTime": {
     "end_time": "2020-09-08T19:12:06.648000+09:00",
     "start_time": "2020-09-08T10:10:42.600Z"
    }
   },
   "outputs": [
    {
     "data": {
      "text/plain": [
       "BenchmarkTools.Trial: \n",
       "  memory estimate:  0 bytes\n",
       "  allocs estimate:  0\n",
       "  --------------\n",
       "  minimum time:     9.077 ns (0.00% GC)\n",
       "  median time:      26.642 μs (0.00% GC)\n",
       "  mean time:        35.133 μs (23.66% GC)\n",
       "  maximum time:     127.642 μs (60.57% GC)\n",
       "  --------------\n",
       "  samples:          143\n",
       "  evals/sample:     999"
      ]
     },
     "execution_count": 43,
     "metadata": {},
     "output_type": "execute_result"
    }
   ],
   "source": [
    "@benchmark issquare_with_simple_newton(n) setup=(n=rand_mpz())"
   ]
  },
  {
   "cell_type": "code",
   "execution_count": null,
   "metadata": {},
   "outputs": [],
   "source": []
  }
 ],
 "metadata": {
  "kernelspec": {
   "display_name": "Julia 1.5.1",
   "language": "julia",
   "name": "julia-1.5"
  },
  "language_info": {
   "file_extension": ".jl",
   "mimetype": "application/julia",
   "name": "julia",
   "version": "1.5.1"
  }
 },
 "nbformat": 4,
 "nbformat_minor": 2
}
